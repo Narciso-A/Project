{
 "cells": [
  {
   "cell_type": "markdown",
   "id": "f1a06b56",
   "metadata": {},
   "source": [
    "![](img/seattle.png)"
   ]
  },
  {
   "cell_type": "markdown",
   "id": "b1f62da5",
   "metadata": {},
   "source": [
    "# Projet P4: Anticipez les besoins en consommation électrique de bâtiments\n",
    "**(Partie 2 - Modélisation)**\n",
    "\n",
    "\n",
    "\n"
   ]
  },
  {
   "cell_type": "markdown",
   "id": "62dc988e",
   "metadata": {},
   "source": [
    "**Il s´agit de prédire la consommation d´energie et les niveaux d´émissions de gaz à effet de serre de bâtiments. Ces prédictions se baseront sur des mesures déjà effectuées sur d´autres bâtiments.**  \n",
    "\n",
    "On établira des modèles à partir des données transformées du premier notebook: \n",
    "-  modèle de consommation d´energie, \n",
    "-  modèle d´emissions de gaz à effet de serre,\n",
    "-  modèle d´emissions de gaz à effet de serre avec prise en compte de la variable Energystar score. \n",
    "\n",
    "\n",
    "On effectuera une évaluation de chacun de ces modèles pour en sélectionner le meilleur."
   ]
  },
  {
   "cell_type": "code",
   "execution_count": 1,
   "id": "05e7ad18",
   "metadata": {},
   "outputs": [],
   "source": [
    "import pandas as pd\n",
    "import numpy as np\n",
    "import matplotlib.pyplot as plt\n",
    "import timeit\n",
    "plt.style.use('seaborn-whitegrid')"
   ]
  },
  {
   "cell_type": "markdown",
   "id": "f8d58f91",
   "metadata": {},
   "source": [
    "Définition de fonctions génériques"
   ]
  },
  {
   "cell_type": "code",
   "execution_count": 2,
   "id": "0469a0eb",
   "metadata": {},
   "outputs": [],
   "source": [
    "def mesure_performance(y_test,y_pred):\n",
    "    '''\n",
    "    Evaluation de la performance\n",
    "    Entree:\n",
    "    - valeur test , valeur predite\n",
    "    Sortie:\n",
    "    - R2\n",
    "    - RMSE\n",
    "    - Moyenne des ecarts (%)\n",
    "    - Ecart type des ecarts (%)\n",
    "    '''\n",
    "    R2 = metrics.r2_score(y_test,y_pred)\n",
    "    mae = metrics.mean_absolute_error(y_test,y_pred)\n",
    "    ecart_pct = 100*np.abs(y_test-y_pred)/np.abs(y_test)\n",
    "    ecart_moyen = np.mean(ecart_pct)\n",
    "    ecart_std = np.std(ecart_pct)\n",
    "\n",
    "    ##print(\"R2:\\t{:.2f} (Coefficient de determination)\\nMAE:\\t{:.2f} (Ecart)\\nMoyennes residus:\\t{:.2f} \\nEcart type residus\\t{:.2f} \".format(R2,mae,ecart_moyen,ecart_std))\n",
    "    \n",
    "    return round(R2,2),round(mae,2),round(ecart_moyen,2),round(ecart_std,2)\n",
    "\n"
   ]
  },
  {
   "cell_type": "code",
   "execution_count": 3,
   "id": "a6e0801e",
   "metadata": {},
   "outputs": [],
   "source": [
    "def graph_R2(y_test,y_pred,erreur_dict,modele):\n",
    "    '''\n",
    "    Affiche les graphiques:\n",
    "    - graphique de correlation entre valeur simulée et valeur réelle\n",
    "    - graphique de la distribution de l´erreur relative\n",
    "    '''\n",
    "    R2 = erreur_dict[0] \n",
    "    ecart_moyen = erreur_dict[2] \n",
    "    ecart_std = erreur_dict[3]\n",
    "    \n",
    "    plt.figure(figsize=(12, 4))\n",
    "\n",
    "    ## graphique correlation\n",
    "    plt.subplot(1,2,1)\n",
    "    plt.scatter(y_test,y_pred,label='R2={:.2f}'.format(R2))\n",
    "    plt.plot([y_test.min(),y_test.max()],[y_test.min(),y_test.max()],'k--')\n",
    "    plt.xlabel('Valeur réelle') \n",
    "    plt.ylabel('Valeur prédite')\n",
    "    plt.title(modele)\n",
    "    plt.axis([y_test.min(),y_test.max(),y_test.min(),y_test.max()])\n",
    "    plt.legend()\n",
    "    \n",
    "    ## graphique distribution des residus\n",
    "    plt.subplot(1,2,2)\n",
    "    plt.hist( ((y_pred-y_test)/y_test)*100,bins=40,label='Ecart (%) = {:.2f} +/-{:.2f}'.format(ecart_moyen,ecart_std) );\n",
    "    plt.xlabel('Nombre d´observations')  \n",
    "    plt.xlabel('Distribution de l´écart entre\\nvaleur réelle et prédite (%)')\n",
    "    plt.title(modele)\n",
    "    plt.legend()"
   ]
  },
  {
   "cell_type": "code",
   "execution_count": 4,
   "id": "12a83e79",
   "metadata": {},
   "outputs": [],
   "source": [
    "def calcule(modele,loi_modele,param_grid):\n",
    "    '''\n",
    "    Calcul des predictions\n",
    "    '''\n",
    "    ## temps de départ\n",
    "    start_time = timeit.default_timer()\n",
    "    \n",
    "    ## pipeline aggregeant le pretraitrement et la validation croisée\n",
    "    modele_global = Pipeline([\n",
    "        ('pretraitrement',preprocessor),\n",
    "        (modele, model_selection.GridSearchCV(\n",
    "            loi_modele,\n",
    "            param_grid,\n",
    "            cv=5,\n",
    "            scoring=('r2','neg_mean_absolute_error'),\n",
    "            return_train_score = True,\n",
    "            refit='neg_mean_absolute_error',\n",
    "            n_jobs = -1)) ])\n",
    "\n",
    "    ## entrainement\n",
    "    modele_global.fit(X_train,y_train)\n",
    "\n",
    "    ## simulation sur valeur de test\n",
    "    y_pred = modele_global.predict(X_test)\n",
    "    \n",
    "    ## temps final\n",
    "    elapsed = timeit.default_timer() - start_time\n",
    "    \n",
    "    return mesure_performance(np.exp(y_test),np.exp(y_pred)),\\\n",
    "mesure_performance(y_test,y_pred), y_pred, round(elapsed,2), modele_global"
   ]
  },
  {
   "cell_type": "markdown",
   "id": "059198e6",
   "metadata": {},
   "source": [
    "## Préparation des calculs"
   ]
  },
  {
   "cell_type": "markdown",
   "id": "002deb67",
   "metadata": {},
   "source": [
    "**Chargement des données**"
   ]
  },
  {
   "cell_type": "code",
   "execution_count": 5,
   "id": "bb760583",
   "metadata": {},
   "outputs": [
    {
     "data": {
      "text/plain": [
       "(1547, 11)"
      ]
     },
     "execution_count": 5,
     "metadata": {},
     "output_type": "execute_result"
    }
   ],
   "source": [
    "mon_fichier = 'donnee/building_energy_benchmarking_pretraitement.csv'\n",
    "data = pd.read_csv(mon_fichier)\n",
    "data.shape"
   ]
  },
  {
   "cell_type": "code",
   "execution_count": 6,
   "id": "50275147",
   "metadata": {},
   "outputs": [
    {
     "data": {
      "text/html": [
       "<div>\n",
       "<style scoped>\n",
       "    .dataframe tbody tr th:only-of-type {\n",
       "        vertical-align: middle;\n",
       "    }\n",
       "\n",
       "    .dataframe tbody tr th {\n",
       "        vertical-align: top;\n",
       "    }\n",
       "\n",
       "    .dataframe thead th {\n",
       "        text-align: right;\n",
       "    }\n",
       "</style>\n",
       "<table border=\"1\" class=\"dataframe\">\n",
       "  <thead>\n",
       "    <tr style=\"text-align: right;\">\n",
       "      <th></th>\n",
       "      <th>BuildingType</th>\n",
       "      <th>PrimaryPropertyType</th>\n",
       "      <th>CouncilDistrictCode</th>\n",
       "      <th>YearBuilt</th>\n",
       "      <th>ENERGYSTARScore</th>\n",
       "      <th>TotalGHGEmissions</th>\n",
       "      <th>SiteEnergyUse(kBtu)_(kWh)</th>\n",
       "      <th>PropertyGFABuilding(s)_(m2)</th>\n",
       "      <th>Electricity_p100</th>\n",
       "      <th>NaturalGas_p100</th>\n",
       "      <th>SteamUse_p100</th>\n",
       "    </tr>\n",
       "  </thead>\n",
       "  <tbody>\n",
       "    <tr>\n",
       "      <th>0</th>\n",
       "      <td>NonResidential</td>\n",
       "      <td>Hotel</td>\n",
       "      <td>7</td>\n",
       "      <td>1927</td>\n",
       "      <td>60.0</td>\n",
       "      <td>249.98</td>\n",
       "      <td>2.118110e+06</td>\n",
       "      <td>8215.787439</td>\n",
       "      <td>54.605993</td>\n",
       "      <td>17.663838</td>\n",
       "      <td>27.730162</td>\n",
       "    </tr>\n",
       "    <tr>\n",
       "      <th>1</th>\n",
       "      <td>NonResidential</td>\n",
       "      <td>Hotel</td>\n",
       "      <td>7</td>\n",
       "      <td>1996</td>\n",
       "      <td>61.0</td>\n",
       "      <td>295.86</td>\n",
       "      <td>2.458577e+06</td>\n",
       "      <td>8222.104846</td>\n",
       "      <td>38.660907</td>\n",
       "      <td>61.339093</td>\n",
       "      <td>0.000000</td>\n",
       "    </tr>\n",
       "    <tr>\n",
       "      <th>2</th>\n",
       "      <td>NonResidential</td>\n",
       "      <td>Hotel</td>\n",
       "      <td>7</td>\n",
       "      <td>1969</td>\n",
       "      <td>43.0</td>\n",
       "      <td>2089.28</td>\n",
       "      <td>2.127589e+07</td>\n",
       "      <td>70549.825352</td>\n",
       "      <td>68.230741</td>\n",
       "      <td>2.057944</td>\n",
       "      <td>29.711308</td>\n",
       "    </tr>\n",
       "    <tr>\n",
       "      <th>3</th>\n",
       "      <td>NonResidential</td>\n",
       "      <td>Hotel</td>\n",
       "      <td>7</td>\n",
       "      <td>1926</td>\n",
       "      <td>56.0</td>\n",
       "      <td>286.43</td>\n",
       "      <td>1.991552e+06</td>\n",
       "      <td>5696.814413</td>\n",
       "      <td>40.751928</td>\n",
       "      <td>26.656717</td>\n",
       "      <td>32.591344</td>\n",
       "    </tr>\n",
       "    <tr>\n",
       "      <th>4</th>\n",
       "      <td>NonResidential</td>\n",
       "      <td>Hotel</td>\n",
       "      <td>7</td>\n",
       "      <td>1980</td>\n",
       "      <td>75.0</td>\n",
       "      <td>505.01</td>\n",
       "      <td>4.154115e+06</td>\n",
       "      <td>10551.927283</td>\n",
       "      <td>37.880168</td>\n",
       "      <td>62.119825</td>\n",
       "      <td>0.000000</td>\n",
       "    </tr>\n",
       "  </tbody>\n",
       "</table>\n",
       "</div>"
      ],
      "text/plain": [
       "     BuildingType PrimaryPropertyType  CouncilDistrictCode  YearBuilt  \\\n",
       "0  NonResidential               Hotel                    7       1927   \n",
       "1  NonResidential               Hotel                    7       1996   \n",
       "2  NonResidential               Hotel                    7       1969   \n",
       "3  NonResidential               Hotel                    7       1926   \n",
       "4  NonResidential               Hotel                    7       1980   \n",
       "\n",
       "   ENERGYSTARScore  TotalGHGEmissions  SiteEnergyUse(kBtu)_(kWh)  \\\n",
       "0             60.0             249.98               2.118110e+06   \n",
       "1             61.0             295.86               2.458577e+06   \n",
       "2             43.0            2089.28               2.127589e+07   \n",
       "3             56.0             286.43               1.991552e+06   \n",
       "4             75.0             505.01               4.154115e+06   \n",
       "\n",
       "   PropertyGFABuilding(s)_(m2)  Electricity_p100  NaturalGas_p100  \\\n",
       "0                  8215.787439         54.605993        17.663838   \n",
       "1                  8222.104846         38.660907        61.339093   \n",
       "2                 70549.825352         68.230741         2.057944   \n",
       "3                  5696.814413         40.751928        26.656717   \n",
       "4                 10551.927283         37.880168        62.119825   \n",
       "\n",
       "   SteamUse_p100  \n",
       "0      27.730162  \n",
       "1       0.000000  \n",
       "2      29.711308  \n",
       "3      32.591344  \n",
       "4       0.000000  "
      ]
     },
     "execution_count": 6,
     "metadata": {},
     "output_type": "execute_result"
    }
   ],
   "source": [
    "data.head()"
   ]
  },
  {
   "cell_type": "code",
   "execution_count": 7,
   "id": "64affda3",
   "metadata": {},
   "outputs": [
    {
     "name": "stdout",
     "output_type": "stream",
     "text": [
      "<class 'pandas.core.frame.DataFrame'>\n",
      "RangeIndex: 1547 entries, 0 to 1546\n",
      "Data columns (total 11 columns):\n",
      " #   Column                       Non-Null Count  Dtype  \n",
      "---  ------                       --------------  -----  \n",
      " 0   BuildingType                 1547 non-null   object \n",
      " 1   PrimaryPropertyType          1547 non-null   object \n",
      " 2   CouncilDistrictCode          1547 non-null   int64  \n",
      " 3   YearBuilt                    1547 non-null   int64  \n",
      " 4   ENERGYSTARScore              1038 non-null   float64\n",
      " 5   TotalGHGEmissions            1547 non-null   float64\n",
      " 6   SiteEnergyUse(kBtu)_(kWh)    1547 non-null   float64\n",
      " 7   PropertyGFABuilding(s)_(m2)  1547 non-null   float64\n",
      " 8   Electricity_p100             1547 non-null   float64\n",
      " 9   NaturalGas_p100              1547 non-null   float64\n",
      " 10  SteamUse_p100                1547 non-null   float64\n",
      "dtypes: float64(7), int64(2), object(2)\n",
      "memory usage: 133.1+ KB\n"
     ]
    }
   ],
   "source": [
    "data.info()"
   ]
  },
  {
   "cell_type": "code",
   "execution_count": 8,
   "id": "ed093ac4",
   "metadata": {},
   "outputs": [],
   "source": [
    "data['CouncilDistrictCode'] = data['CouncilDistrictCode'].astype('object')"
   ]
  },
  {
   "cell_type": "code",
   "execution_count": 9,
   "id": "4f35b59f",
   "metadata": {},
   "outputs": [
    {
     "data": {
      "text/html": [
       "<div>\n",
       "<style scoped>\n",
       "    .dataframe tbody tr th:only-of-type {\n",
       "        vertical-align: middle;\n",
       "    }\n",
       "\n",
       "    .dataframe tbody tr th {\n",
       "        vertical-align: top;\n",
       "    }\n",
       "\n",
       "    .dataframe thead th {\n",
       "        text-align: right;\n",
       "    }\n",
       "</style>\n",
       "<table border=\"1\" class=\"dataframe\">\n",
       "  <thead>\n",
       "    <tr style=\"text-align: right;\">\n",
       "      <th></th>\n",
       "      <th>BuildingType</th>\n",
       "      <th>PrimaryPropertyType</th>\n",
       "      <th>CouncilDistrictCode</th>\n",
       "      <th>YearBuilt</th>\n",
       "      <th>ENERGYSTARScore</th>\n",
       "      <th>TotalGHGEmissions</th>\n",
       "      <th>SiteEnergyUse(kBtu)_(kWh)</th>\n",
       "      <th>PropertyGFABuilding(s)_(m2)</th>\n",
       "      <th>Electricity_p100</th>\n",
       "      <th>NaturalGas_p100</th>\n",
       "      <th>SteamUse_p100</th>\n",
       "    </tr>\n",
       "  </thead>\n",
       "  <tbody>\n",
       "    <tr>\n",
       "      <th>count</th>\n",
       "      <td>1547</td>\n",
       "      <td>1547</td>\n",
       "      <td>1547.0</td>\n",
       "      <td>1547.000000</td>\n",
       "      <td>1038.000000</td>\n",
       "      <td>1547.000000</td>\n",
       "      <td>1.547000e+03</td>\n",
       "      <td>1547.000000</td>\n",
       "      <td>1547.000000</td>\n",
       "      <td>1547.000000</td>\n",
       "      <td>1547.000000</td>\n",
       "    </tr>\n",
       "    <tr>\n",
       "      <th>unique</th>\n",
       "      <td>4</td>\n",
       "      <td>19</td>\n",
       "      <td>7.0</td>\n",
       "      <td>NaN</td>\n",
       "      <td>NaN</td>\n",
       "      <td>NaN</td>\n",
       "      <td>NaN</td>\n",
       "      <td>NaN</td>\n",
       "      <td>NaN</td>\n",
       "      <td>NaN</td>\n",
       "      <td>NaN</td>\n",
       "    </tr>\n",
       "    <tr>\n",
       "      <th>top</th>\n",
       "      <td>NonResidential</td>\n",
       "      <td>Small- and Mid-Sized Office</td>\n",
       "      <td>7.0</td>\n",
       "      <td>NaN</td>\n",
       "      <td>NaN</td>\n",
       "      <td>NaN</td>\n",
       "      <td>NaN</td>\n",
       "      <td>NaN</td>\n",
       "      <td>NaN</td>\n",
       "      <td>NaN</td>\n",
       "      <td>NaN</td>\n",
       "    </tr>\n",
       "    <tr>\n",
       "      <th>freq</th>\n",
       "      <td>1388</td>\n",
       "      <td>284</td>\n",
       "      <td>494.0</td>\n",
       "      <td>NaN</td>\n",
       "      <td>NaN</td>\n",
       "      <td>NaN</td>\n",
       "      <td>NaN</td>\n",
       "      <td>NaN</td>\n",
       "      <td>NaN</td>\n",
       "      <td>NaN</td>\n",
       "      <td>NaN</td>\n",
       "    </tr>\n",
       "    <tr>\n",
       "      <th>mean</th>\n",
       "      <td>NaN</td>\n",
       "      <td>NaN</td>\n",
       "      <td>NaN</td>\n",
       "      <td>1961.431157</td>\n",
       "      <td>65.348748</td>\n",
       "      <td>140.511894</td>\n",
       "      <td>2.025511e+06</td>\n",
       "      <td>8959.054878</td>\n",
       "      <td>70.171811</td>\n",
       "      <td>27.831846</td>\n",
       "      <td>1.991121</td>\n",
       "    </tr>\n",
       "    <tr>\n",
       "      <th>std</th>\n",
       "      <td>NaN</td>\n",
       "      <td>NaN</td>\n",
       "      <td>NaN</td>\n",
       "      <td>32.669653</td>\n",
       "      <td>28.373384</td>\n",
       "      <td>299.488091</td>\n",
       "      <td>4.001767e+06</td>\n",
       "      <td>15153.368460</td>\n",
       "      <td>26.352717</td>\n",
       "      <td>26.458662</td>\n",
       "      <td>8.888621</td>\n",
       "    </tr>\n",
       "    <tr>\n",
       "      <th>min</th>\n",
       "      <td>NaN</td>\n",
       "      <td>NaN</td>\n",
       "      <td>NaN</td>\n",
       "      <td>1900.000000</td>\n",
       "      <td>1.000000</td>\n",
       "      <td>0.120000</td>\n",
       "      <td>4.926836e+03</td>\n",
       "      <td>337.795453</td>\n",
       "      <td>0.000000</td>\n",
       "      <td>0.000000</td>\n",
       "      <td>0.000000</td>\n",
       "    </tr>\n",
       "    <tr>\n",
       "      <th>25%</th>\n",
       "      <td>NaN</td>\n",
       "      <td>NaN</td>\n",
       "      <td>NaN</td>\n",
       "      <td>1930.000000</td>\n",
       "      <td>48.250000</td>\n",
       "      <td>20.095000</td>\n",
       "      <td>3.679657e+05</td>\n",
       "      <td>2633.243766</td>\n",
       "      <td>48.969710</td>\n",
       "      <td>0.000000</td>\n",
       "      <td>0.000000</td>\n",
       "    </tr>\n",
       "    <tr>\n",
       "      <th>50%</th>\n",
       "      <td>NaN</td>\n",
       "      <td>NaN</td>\n",
       "      <td>NaN</td>\n",
       "      <td>1965.000000</td>\n",
       "      <td>73.000000</td>\n",
       "      <td>49.440000</td>\n",
       "      <td>7.477270e+05</td>\n",
       "      <td>4339.500998</td>\n",
       "      <td>71.017542</td>\n",
       "      <td>24.106525</td>\n",
       "      <td>0.000000</td>\n",
       "    </tr>\n",
       "    <tr>\n",
       "      <th>75%</th>\n",
       "      <td>NaN</td>\n",
       "      <td>NaN</td>\n",
       "      <td>NaN</td>\n",
       "      <td>1988.000000</td>\n",
       "      <td>89.000000</td>\n",
       "      <td>134.630000</td>\n",
       "      <td>1.998203e+06</td>\n",
       "      <td>8684.204567</td>\n",
       "      <td>99.999797</td>\n",
       "      <td>49.449083</td>\n",
       "      <td>0.000000</td>\n",
       "    </tr>\n",
       "    <tr>\n",
       "      <th>max</th>\n",
       "      <td>NaN</td>\n",
       "      <td>NaN</td>\n",
       "      <td>NaN</td>\n",
       "      <td>2014.000000</td>\n",
       "      <td>100.000000</td>\n",
       "      <td>3995.450000</td>\n",
       "      <td>8.051177e+07</td>\n",
       "      <td>204386.688000</td>\n",
       "      <td>100.001129</td>\n",
       "      <td>100.000000</td>\n",
       "      <td>76.698738</td>\n",
       "    </tr>\n",
       "  </tbody>\n",
       "</table>\n",
       "</div>"
      ],
      "text/plain": [
       "          BuildingType          PrimaryPropertyType  CouncilDistrictCode  \\\n",
       "count             1547                         1547               1547.0   \n",
       "unique               4                           19                  7.0   \n",
       "top     NonResidential  Small- and Mid-Sized Office                  7.0   \n",
       "freq              1388                          284                494.0   \n",
       "mean               NaN                          NaN                  NaN   \n",
       "std                NaN                          NaN                  NaN   \n",
       "min                NaN                          NaN                  NaN   \n",
       "25%                NaN                          NaN                  NaN   \n",
       "50%                NaN                          NaN                  NaN   \n",
       "75%                NaN                          NaN                  NaN   \n",
       "max                NaN                          NaN                  NaN   \n",
       "\n",
       "          YearBuilt  ENERGYSTARScore  TotalGHGEmissions  \\\n",
       "count   1547.000000      1038.000000        1547.000000   \n",
       "unique          NaN              NaN                NaN   \n",
       "top             NaN              NaN                NaN   \n",
       "freq            NaN              NaN                NaN   \n",
       "mean    1961.431157        65.348748         140.511894   \n",
       "std       32.669653        28.373384         299.488091   \n",
       "min     1900.000000         1.000000           0.120000   \n",
       "25%     1930.000000        48.250000          20.095000   \n",
       "50%     1965.000000        73.000000          49.440000   \n",
       "75%     1988.000000        89.000000         134.630000   \n",
       "max     2014.000000       100.000000        3995.450000   \n",
       "\n",
       "        SiteEnergyUse(kBtu)_(kWh)  PropertyGFABuilding(s)_(m2)  \\\n",
       "count                1.547000e+03                  1547.000000   \n",
       "unique                        NaN                          NaN   \n",
       "top                           NaN                          NaN   \n",
       "freq                          NaN                          NaN   \n",
       "mean                 2.025511e+06                  8959.054878   \n",
       "std                  4.001767e+06                 15153.368460   \n",
       "min                  4.926836e+03                   337.795453   \n",
       "25%                  3.679657e+05                  2633.243766   \n",
       "50%                  7.477270e+05                  4339.500998   \n",
       "75%                  1.998203e+06                  8684.204567   \n",
       "max                  8.051177e+07                204386.688000   \n",
       "\n",
       "        Electricity_p100  NaturalGas_p100  SteamUse_p100  \n",
       "count        1547.000000      1547.000000    1547.000000  \n",
       "unique               NaN              NaN            NaN  \n",
       "top                  NaN              NaN            NaN  \n",
       "freq                 NaN              NaN            NaN  \n",
       "mean           70.171811        27.831846       1.991121  \n",
       "std            26.352717        26.458662       8.888621  \n",
       "min             0.000000         0.000000       0.000000  \n",
       "25%            48.969710         0.000000       0.000000  \n",
       "50%            71.017542        24.106525       0.000000  \n",
       "75%            99.999797        49.449083       0.000000  \n",
       "max           100.001129       100.000000      76.698738  "
      ]
     },
     "execution_count": 9,
     "metadata": {},
     "output_type": "execute_result"
    }
   ],
   "source": [
    "data.describe(include='all')"
   ]
  },
  {
   "cell_type": "markdown",
   "id": "538ee90b",
   "metadata": {},
   "source": [
    "**Définition des variables des modèles**"
   ]
  },
  {
   "cell_type": "code",
   "execution_count": 10,
   "id": "0438025f",
   "metadata": {},
   "outputs": [],
   "source": [
    "## Entree X\n",
    "X = data.drop(columns=['ENERGYSTARScore','TotalGHGEmissions','SiteEnergyUse(kBtu)_(kWh)'])\n",
    "\n",
    "## Sortie y\n",
    "y_conso = data['SiteEnergyUse(kBtu)_(kWh)']\n",
    "y_emission = data['TotalGHGEmissions']"
   ]
  },
  {
   "cell_type": "markdown",
   "id": "d14bc5e6",
   "metadata": {},
   "source": [
    "**Prétraitement des variables**"
   ]
  },
  {
   "cell_type": "markdown",
   "id": "ca8d10c2",
   "metadata": {},
   "source": [
    "On encode les variables numériques avec 'StandardScaler' et les variables catégorielles avec 'OneHotEncoder'"
   ]
  },
  {
   "cell_type": "code",
   "execution_count": 11,
   "id": "11a98979",
   "metadata": {},
   "outputs": [],
   "source": [
    "from sklearn.compose import make_column_selector as selector\n",
    "from sklearn.preprocessing import OneHotEncoder, StandardScaler\n",
    "from sklearn.compose import ColumnTransformer\n",
    "\n",
    "\n",
    "## Selection des types de variables\n",
    "numerical_columns_selector = selector(dtype_exclude=object)\n",
    "categorical_columns_selector = selector(dtype_include=object)\n",
    "\n",
    "numerical_columns = numerical_columns_selector(X)\n",
    "categorical_columns = categorical_columns_selector(X)\n",
    "\n",
    "## Traitement specifique par type de variables\n",
    "categorical_preprocessor = OneHotEncoder()\n",
    "numerical_preprocessor = StandardScaler()\n",
    "\n",
    "## Regroupement de tous les traitements en un seul traitement\n",
    "preprocessor = ColumnTransformer([\n",
    "    ('one-hot-encoder', categorical_preprocessor, categorical_columns),\n",
    "    ('standard-scaler', numerical_preprocessor, numerical_columns)])"
   ]
  },
  {
   "cell_type": "markdown",
   "id": "b03fd17c",
   "metadata": {},
   "source": [
    "## Modèle de consommation d´énergie"
   ]
  },
  {
   "cell_type": "markdown",
   "id": "dcbf81cd",
   "metadata": {},
   "source": [
    "**Séparation du jeu de donnée en un jeu d´entrainement et un jeu de test**"
   ]
  },
  {
   "cell_type": "markdown",
   "id": "28b4750c",
   "metadata": {},
   "source": [
    "Le jeu de donnée est séparé en un jeu d´entrainement et un jeu de test pour éviter le surapprentissage"
   ]
  },
  {
   "cell_type": "code",
   "execution_count": 12,
   "id": "692b39da",
   "metadata": {},
   "outputs": [],
   "source": [
    "## Separation en jeu train et test\n",
    "from sklearn import model_selection\n",
    "\n",
    "X_train, X_test, y_train, y_test = \\\n",
    "model_selection.train_test_split(X, y_conso,\n",
    "                                 test_size=0.3, # 30% des données dans le jeu de test\n",
    "                                stratify=X['PrimaryPropertyType'])"
   ]
  },
  {
   "cell_type": "markdown",
   "id": "794fd7c7",
   "metadata": {},
   "source": [
    "**Passage au log des sorties**"
   ]
  },
  {
   "cell_type": "markdown",
   "id": "a1c84304",
   "metadata": {},
   "source": [
    "Les sorties varient sur plusieurs ordres de grandeurs.  \n",
    "Pour faciliter les calculs, on leurs applique une fonction logarithme."
   ]
  },
  {
   "cell_type": "code",
   "execution_count": 13,
   "id": "fca28e17",
   "metadata": {},
   "outputs": [
    {
     "data": {
      "image/png": "[encoded data removed]",
      "text/plain": [
       "<Figure size 432x288 with 1 Axes>"
      ]
     },
     "metadata": {},
     "output_type": "display_data"
    }
   ],
   "source": [
    "y_conso_log = np.log(y_conso)\n",
    "y_conso_log.hist(bins=40)\n",
    "plt.xlabel(\"SiteEnergyUse ( log(kW.h) )\")\n",
    "plt.ylabel(\"Nombre de batiments\");"
   ]
  },
  {
   "cell_type": "code",
   "execution_count": 14,
   "id": "1663d0f0",
   "metadata": {},
   "outputs": [
    {
     "data": {
      "text/plain": [
       "count    1547.000000\n",
       "mean       13.657644\n",
       "std         1.282551\n",
       "min         8.502452\n",
       "25%        12.815744\n",
       "50%        13.524793\n",
       "75%        14.507755\n",
       "max        18.203914\n",
       "Name: SiteEnergyUse(kBtu)_(kWh), dtype: float64"
      ]
     },
     "execution_count": 14,
     "metadata": {},
     "output_type": "execute_result"
    }
   ],
   "source": [
    "y_conso_log.describe()"
   ]
  },
  {
   "cell_type": "code",
   "execution_count": 15,
   "id": "750c2921",
   "metadata": {},
   "outputs": [],
   "source": [
    "## Passage au log\n",
    "y_train, y_test = np.log(y_train), np.log(y_test)"
   ]
  },
  {
   "cell_type": "markdown",
   "id": "482779e6",
   "metadata": {},
   "source": [
    "###  Modèle de référence : régression naive"
   ]
  },
  {
   "cell_type": "markdown",
   "id": "8e6db298",
   "metadata": {},
   "source": [
    "On calcule une première réfèrence pour pouvoir comparer les modèles."
   ]
  },
  {
   "cell_type": "code",
   "execution_count": 16,
   "id": "cfaff33b",
   "metadata": {},
   "outputs": [],
   "source": [
    "## initialisation des variables\n",
    "erreur_dict = {} ## erreur avec log(y)\n",
    "erreur_dict_init = {} ## erreur avec y\n",
    "temps_dict = {}"
   ]
  },
  {
   "cell_type": "code",
   "execution_count": 17,
   "id": "5a3964b5",
   "metadata": {},
   "outputs": [],
   "source": [
    "from sklearn import dummy\n",
    "from sklearn import metrics\n",
    "from sklearn.pipeline import Pipeline\n",
    "\n",
    "modele = 'Regression naive'\n",
    "\n",
    "dum = dummy.DummyRegressor(strategy='mean')\n",
    "\n",
    "modele_global = Pipeline([\n",
    "    ('pretraitrement',preprocessor),\n",
    "    (modele, dum) ])\n",
    "\n",
    "# Entraînement\n",
    "modele_global.fit(X_train, y_train)\n",
    "\n",
    "# Prédiction sur le jeu de test\n",
    "y_pred_dum = modele_global.predict(X_test)\n",
    "\n",
    "# Evaluation\n",
    "erreur_dict[modele] = mesure_performance(y_test,y_pred_dum)"
   ]
  },
  {
   "cell_type": "markdown",
   "id": "df0b2560",
   "metadata": {},
   "source": [
    "###  Modèles linéaires"
   ]
  },
  {
   "cell_type": "markdown",
   "id": "1a72c670",
   "metadata": {},
   "source": [
    "On effectue une modélisation avec une premiere famille de modèle: les modèles lineaires."
   ]
  },
  {
   "cell_type": "markdown",
   "id": "747a2aeb",
   "metadata": {},
   "source": [
    "**Regression lineaire**"
   ]
  },
  {
   "cell_type": "code",
   "execution_count": 18,
   "id": "768f94cf",
   "metadata": {},
   "outputs": [],
   "source": [
    "from sklearn.linear_model import LinearRegression"
   ]
  },
  {
   "cell_type": "code",
   "execution_count": 19,
   "id": "a5665ae1",
   "metadata": {
    "scrolled": false
   },
   "outputs": [],
   "source": [
    "## parametre du modele\n",
    "modele = 'Regression lineaire'\n",
    "\n",
    "loi_modele = LinearRegression()\n",
    "\n",
    "param_grid = {\"fit_intercept\": [ True, False ],\n",
    "              \"normalize\": [ True, False ]}\n",
    "\n",
    "erreur_dict_init[modele],erreur_dict[modele], y_pred, temps_dict[modele], modele_global = calcule(modele,loi_modele,param_grid)"
   ]
  },
  {
   "cell_type": "markdown",
   "id": "2cf2ca1c",
   "metadata": {},
   "source": [
    "**Regression lineaire Ridge**"
   ]
  },
  {
   "cell_type": "code",
   "execution_count": 20,
   "id": "ba60dede",
   "metadata": {
    "scrolled": false
   },
   "outputs": [],
   "source": [
    "from sklearn import linear_model\n",
    "\n",
    "modele = 'Regression lineaire Ridge'\n",
    "\n",
    "loi_modele = linear_model.Ridge(normalize=True)\n",
    "\n",
    "param_grid = {'alpha': np.logspace(-5,5,200)}\n",
    "\n",
    "erreur_dict_init[modele],erreur_dict[modele], y_pred, temps_dict[modele], modele_global = calcule(modele,loi_modele,param_grid)"
   ]
  },
  {
   "cell_type": "markdown",
   "id": "81419cd9",
   "metadata": {},
   "source": [
    "**Regression lineaire Lasso**"
   ]
  },
  {
   "cell_type": "code",
   "execution_count": 21,
   "id": "f61c0911",
   "metadata": {
    "scrolled": true
   },
   "outputs": [],
   "source": [
    "from sklearn import linear_model\n",
    "\n",
    "modele = 'Regression lineaire Lasso'\n",
    "\n",
    "loi_modele = linear_model.Lasso(normalize=True,tol=1e-2)\n",
    "\n",
    "param_grid = {'alpha': np.logspace(-5,1,300)}\n",
    "\n",
    "erreur_dict_init[modele],erreur_dict[modele], y_pred, temps_dict[modele], modele_global = calcule(modele,loi_modele,param_grid)\n"
   ]
  },
  {
   "cell_type": "markdown",
   "id": "fc443b10",
   "metadata": {},
   "source": [
    "**SVM lineaire** "
   ]
  },
  {
   "cell_type": "code",
   "execution_count": 22,
   "id": "55800dec",
   "metadata": {
    "scrolled": true
   },
   "outputs": [],
   "source": [
    "from sklearn.svm import LinearSVR\n",
    "modele = 'SVM lineaire'\n",
    "\n",
    "loi_modele = LinearSVR(dual=False,loss='squared_epsilon_insensitive')\n",
    "\n",
    "param_grid = { 'C': np.logspace(-5, 5, 50) }\n",
    "\n",
    "erreur_dict_init[modele],erreur_dict[modele], y_pred, temps_dict[modele], modele_global = calcule(modele,loi_modele,param_grid)"
   ]
  },
  {
   "cell_type": "markdown",
   "id": "394d8dc7",
   "metadata": {},
   "source": [
    "###  Modèles Non Linéaires"
   ]
  },
  {
   "cell_type": "markdown",
   "id": "4a764dc6",
   "metadata": {},
   "source": [
    "On effectue la même démarche avec les modeles non lineaires (noyau)."
   ]
  },
  {
   "cell_type": "markdown",
   "id": "b9ba3a37",
   "metadata": {},
   "source": [
    "**SVM noyau Gaussien**"
   ]
  },
  {
   "cell_type": "code",
   "execution_count": 23,
   "id": "b606dbe4",
   "metadata": {
    "scrolled": false
   },
   "outputs": [],
   "source": [
    "from sklearn.svm import SVR\n",
    "\n",
    "modele = 'SVM noyau Gaussien'\n",
    "\n",
    "loi_modele = SVR()\n",
    "\n",
    "param_grid = { 'C': np.logspace(-2, 2, 5), 'gamma': np.logspace(-5, 2, 10) } \n",
    "\n",
    "erreur_dict_init[modele],erreur_dict[modele], y_pred, temps_dict[modele], modele_global = calcule(modele,loi_modele,param_grid)"
   ]
  },
  {
   "cell_type": "markdown",
   "id": "47aabf9f",
   "metadata": {},
   "source": [
    "On effectue la même démarche avec des modeles ensemblistes."
   ]
  },
  {
   "cell_type": "markdown",
   "id": "80cd3fc5",
   "metadata": {},
   "source": [
    " **Forêts aléatoires**"
   ]
  },
  {
   "cell_type": "code",
   "execution_count": 24,
   "id": "e6b9cd5d",
   "metadata": {},
   "outputs": [],
   "source": [
    "from sklearn.ensemble import RandomForestRegressor\n",
    "\n",
    "modele = 'Forêts aléatoires'\n",
    "\n",
    "loi_modele = RandomForestRegressor()\n",
    "\n",
    "param_grid = { 'n_estimators': list(range(500,1500,200))}\n",
    "\n",
    "erreur_dict_init[modele],erreur_dict[modele], y_pred, temps_dict[modele], modele_global = calcule(modele,loi_modele,param_grid)\n"
   ]
  },
  {
   "cell_type": "markdown",
   "id": "8476245f",
   "metadata": {},
   "source": [
    "**Gradient boosting**"
   ]
  },
  {
   "cell_type": "code",
   "execution_count": 25,
   "id": "ca54c2b3",
   "metadata": {},
   "outputs": [],
   "source": [
    "from sklearn.ensemble import GradientBoostingRegressor\n",
    "\n",
    "modele = 'Gradient boosting'\n",
    "\n",
    "loi_modele = GradientBoostingRegressor()\n",
    "\n",
    "param_grid = { 'n_estimators': [100,200], 'learning_rate':[0.01,0.1],'max_depth':[1,2,5,8]} \n",
    "\n",
    "erreur_dict_init[modele],erreur_dict[modele], y_pred, temps_dict[modele],modele_global = calcule(modele,loi_modele,param_grid)"
   ]
  },
  {
   "cell_type": "code",
   "execution_count": 26,
   "id": "c05a69c3",
   "metadata": {},
   "outputs": [
    {
     "data": {
      "image/png": "[encoded data removed]",
      "text/plain": [
       "<Figure size 432x288 with 1 Axes>"
      ]
     },
     "metadata": {},
     "output_type": "display_data"
    }
   ],
   "source": [
    "## graphique importance des features\n",
    "importances = modele_global.named_steps['Gradient boosting'].best_estimator_.feature_importances_\n",
    "col_cat = modele_global['pretraitrement'].transformers_[0][1].get_feature_names()\n",
    "col_cat = modele_global['pretraitrement'].transformers_[0][1].get_feature_names()\n",
    "col_cat = [a[3:] for a in col_cat]\n",
    "col_num = modele_global['pretraitrement'].transformers_[1][2]\n",
    "col = col_cat+col_num\n",
    "\n",
    "indices = np.argsort(importances)[25:]\n",
    "\n",
    "fig, ax = plt.subplots()\n",
    "ax.barh(range(len(indices)), importances[indices])\n",
    "ax.set_yticks(range(len(indices)))\n",
    "_ = ax.set_yticklabels(np.array(col)[indices])\n",
    "plt.title('Importance des variables');"
   ]
  },
  {
   "cell_type": "code",
   "execution_count": 27,
   "id": "ceffb98f",
   "metadata": {},
   "outputs": [
    {
     "data": {
      "image/png": "[encoded data removed]",
      "text/plain": [
       "<Figure size 432x288 with 1 Axes>"
      ]
     },
     "metadata": {},
     "output_type": "display_data"
    }
   ],
   "source": [
    "## graphique Gradient boosting ecart relatif par type de batiment\n",
    "df = pd.DataFrame([X_test['PrimaryPropertyType'].to_list(),y_test.to_list(),y_pred],index=['PrimaryPropertyType','y_test','y_pred']).T\n",
    "\n",
    "df['y_test'] = np.exp(df['y_test'].astype('float64'))\n",
    "df['y_pred'] = np.exp(df['y_pred'].astype('float64'))\n",
    "df['Ecart'] = np.abs(df['y_test']-df['y_pred'])/df['y_test']\n",
    "\n",
    "df_mae = 100*df.groupby(by='PrimaryPropertyType').mean()['Ecart']\n",
    "\n",
    "var_mae=df_mae.sort_values(ascending=False)\n",
    "plt.bar(range(len(var_mae)),var_mae,color=\"steelblue\")\n",
    "plt.xticks(range(len((var_mae))),var_mae.index,rotation=90);\n",
    "plt.title('Precision du modèle\\n écarts relatifs par type de bâtiment')\n",
    "plt.ylabel('Ecart relatif (%)')\n",
    "plt.rcParams.update({'font.size': 12})"
   ]
  },
  {
   "cell_type": "code",
   "execution_count": 28,
   "id": "66d2c1ab",
   "metadata": {},
   "outputs": [
    {
     "data": {
      "image/png": "[encoded data removed]",
      "text/plain": [
       "<Figure size 432x288 with 1 Axes>"
      ]
     },
     "metadata": {},
     "output_type": "display_data"
    }
   ],
   "source": [
    "## focus sur les meilleurs modèles\n",
    "var_mae=df_mae.sort_values(ascending=False)[4:]\n",
    "plt.bar(range(len(var_mae)),var_mae,color=\"steelblue\")\n",
    "plt.xticks(range(len((var_mae))),var_mae.index,rotation=90);\n",
    "plt.title('Precision du modèle\\n écarts relatifs par type de bâtiment')\n",
    "plt.ylabel('Ecart relatif (%)')\n",
    "plt.rcParams.update({'font.size': 12})"
   ]
  },
  {
   "cell_type": "markdown",
   "id": "e12bf19c",
   "metadata": {},
   "source": [
    "## Synthèse des résultats"
   ]
  },
  {
   "cell_type": "markdown",
   "id": "efdecffb",
   "metadata": {},
   "source": [
    "Il y a un écart entre les modeles linéaires et non linéaires, en faveur des modeles non linéaires. La performance seul est ici privilegiée, le temps de calcul n´est pas pris en compte dans le choix du modèle.  \n",
    "Le modele 'Gradient boosting' offre les meilleurs resultats en terme de performance. "
   ]
  },
  {
   "cell_type": "code",
   "execution_count": 29,
   "id": "98b9c3cf",
   "metadata": {},
   "outputs": [
    {
     "data": {
      "image/png": "[encoded data removed]",
      "text/plain": [
       "<Figure size 864x288 with 2 Axes>"
      ]
     },
     "metadata": {},
     "output_type": "display_data"
    }
   ],
   "source": [
    "graph_R2(y_test,y_pred,erreur_dict[modele],modele)"
   ]
  },
  {
   "cell_type": "code",
   "execution_count": 30,
   "id": "edf4fa0d",
   "metadata": {},
   "outputs": [
    {
     "data": {
      "text/html": [
       "<div>\n",
       "<style scoped>\n",
       "    .dataframe tbody tr th:only-of-type {\n",
       "        vertical-align: middle;\n",
       "    }\n",
       "\n",
       "    .dataframe tbody tr th {\n",
       "        vertical-align: top;\n",
       "    }\n",
       "\n",
       "    .dataframe thead th {\n",
       "        text-align: right;\n",
       "    }\n",
       "</style>\n",
       "<table border=\"1\" class=\"dataframe\">\n",
       "  <thead>\n",
       "    <tr style=\"text-align: right;\">\n",
       "      <th></th>\n",
       "      <th>Regression naive</th>\n",
       "      <th>Regression lineaire</th>\n",
       "      <th>Regression lineaire Ridge</th>\n",
       "      <th>Regression lineaire Lasso</th>\n",
       "      <th>SVM lineaire</th>\n",
       "      <th>SVM noyau Gaussien</th>\n",
       "      <th>Forêts aléatoires</th>\n",
       "      <th>Gradient boosting</th>\n",
       "    </tr>\n",
       "  </thead>\n",
       "  <tbody>\n",
       "    <tr>\n",
       "      <th>R2</th>\n",
       "      <td>-0.01</td>\n",
       "      <td>0.56</td>\n",
       "      <td>0.56</td>\n",
       "      <td>0.56</td>\n",
       "      <td>0.56</td>\n",
       "      <td>0.71</td>\n",
       "      <td>0.72</td>\n",
       "      <td>0.75</td>\n",
       "    </tr>\n",
       "    <tr>\n",
       "      <th>MAE</th>\n",
       "      <td>1.04</td>\n",
       "      <td>0.66</td>\n",
       "      <td>0.66</td>\n",
       "      <td>0.66</td>\n",
       "      <td>0.66</td>\n",
       "      <td>0.52</td>\n",
       "      <td>0.51</td>\n",
       "      <td>0.48</td>\n",
       "    </tr>\n",
       "    <tr>\n",
       "      <th>Moyenne Residus (%)</th>\n",
       "      <td>7.60</td>\n",
       "      <td>4.87</td>\n",
       "      <td>4.88</td>\n",
       "      <td>4.88</td>\n",
       "      <td>4.88</td>\n",
       "      <td>3.86</td>\n",
       "      <td>3.77</td>\n",
       "      <td>3.57</td>\n",
       "    </tr>\n",
       "    <tr>\n",
       "      <th>Ecart type residus (%)</th>\n",
       "      <td>6.07</td>\n",
       "      <td>4.32</td>\n",
       "      <td>4.32</td>\n",
       "      <td>4.32</td>\n",
       "      <td>4.32</td>\n",
       "      <td>3.77</td>\n",
       "      <td>3.56</td>\n",
       "      <td>3.48</td>\n",
       "    </tr>\n",
       "  </tbody>\n",
       "</table>\n",
       "</div>"
      ],
      "text/plain": [
       "                        Regression naive  Regression lineaire  \\\n",
       "R2                                 -0.01                 0.56   \n",
       "MAE                                 1.04                 0.66   \n",
       "Moyenne Residus (%)                 7.60                 4.87   \n",
       "Ecart type residus (%)              6.07                 4.32   \n",
       "\n",
       "                        Regression lineaire Ridge  Regression lineaire Lasso  \\\n",
       "R2                                           0.56                       0.56   \n",
       "MAE                                          0.66                       0.66   \n",
       "Moyenne Residus (%)                          4.88                       4.88   \n",
       "Ecart type residus (%)                       4.32                       4.32   \n",
       "\n",
       "                        SVM lineaire  SVM noyau Gaussien  Forêts aléatoires  \\\n",
       "R2                              0.56                0.71               0.72   \n",
       "MAE                             0.66                0.52               0.51   \n",
       "Moyenne Residus (%)             4.88                3.86               3.77   \n",
       "Ecart type residus (%)          4.32                3.77               3.56   \n",
       "\n",
       "                        Gradient boosting  \n",
       "R2                                   0.75  \n",
       "MAE                                  0.48  \n",
       "Moyenne Residus (%)                  3.57  \n",
       "Ecart type residus (%)               3.48  "
      ]
     },
     "execution_count": 30,
     "metadata": {},
     "output_type": "execute_result"
    }
   ],
   "source": [
    "## erreur avec log(y)\n",
    "df_resultat_conso = pd.DataFrame(erreur_dict,index=['R2','MAE','Moyenne Residus (%)','Ecart type residus (%)'])\n",
    "df_resultat_conso"
   ]
  },
  {
   "cell_type": "code",
   "execution_count": 31,
   "id": "11873adb",
   "metadata": {},
   "outputs": [
    {
     "data": {
      "text/html": [
       "<div>\n",
       "<style scoped>\n",
       "    .dataframe tbody tr th:only-of-type {\n",
       "        vertical-align: middle;\n",
       "    }\n",
       "\n",
       "    .dataframe tbody tr th {\n",
       "        vertical-align: top;\n",
       "    }\n",
       "\n",
       "    .dataframe thead th {\n",
       "        text-align: right;\n",
       "    }\n",
       "</style>\n",
       "<table border=\"1\" class=\"dataframe\">\n",
       "  <thead>\n",
       "    <tr style=\"text-align: right;\">\n",
       "      <th></th>\n",
       "      <th>Regression lineaire</th>\n",
       "      <th>Regression lineaire Ridge</th>\n",
       "      <th>Regression lineaire Lasso</th>\n",
       "      <th>SVM lineaire</th>\n",
       "      <th>SVM noyau Gaussien</th>\n",
       "      <th>Forêts aléatoires</th>\n",
       "      <th>Gradient boosting</th>\n",
       "    </tr>\n",
       "  </thead>\n",
       "  <tbody>\n",
       "    <tr>\n",
       "      <th>R2</th>\n",
       "      <td>-94.41</td>\n",
       "      <td>-87.42</td>\n",
       "      <td>-90.78</td>\n",
       "      <td>-96.17</td>\n",
       "      <td>0.04</td>\n",
       "      <td>0.68</td>\n",
       "      <td>0.71</td>\n",
       "    </tr>\n",
       "    <tr>\n",
       "      <th>MAE</th>\n",
       "      <td>3998787.60</td>\n",
       "      <td>3888588.69</td>\n",
       "      <td>3943339.22</td>\n",
       "      <td>4027047.81</td>\n",
       "      <td>1070883.19</td>\n",
       "      <td>888008.79</td>\n",
       "      <td>820208.90</td>\n",
       "    </tr>\n",
       "    <tr>\n",
       "      <th>Moyenne Residus (%)</th>\n",
       "      <td>97.38</td>\n",
       "      <td>97.10</td>\n",
       "      <td>97.44</td>\n",
       "      <td>97.68</td>\n",
       "      <td>65.39</td>\n",
       "      <td>60.07</td>\n",
       "      <td>57.12</td>\n",
       "    </tr>\n",
       "    <tr>\n",
       "      <th>Ecart type residus (%)</th>\n",
       "      <td>238.36</td>\n",
       "      <td>234.04</td>\n",
       "      <td>236.37</td>\n",
       "      <td>239.13</td>\n",
       "      <td>141.43</td>\n",
       "      <td>94.69</td>\n",
       "      <td>95.27</td>\n",
       "    </tr>\n",
       "  </tbody>\n",
       "</table>\n",
       "</div>"
      ],
      "text/plain": [
       "                        Regression lineaire  Regression lineaire Ridge  \\\n",
       "R2                                   -94.41                     -87.42   \n",
       "MAE                              3998787.60                 3888588.69   \n",
       "Moyenne Residus (%)                   97.38                      97.10   \n",
       "Ecart type residus (%)               238.36                     234.04   \n",
       "\n",
       "                        Regression lineaire Lasso  SVM lineaire  \\\n",
       "R2                                         -90.78        -96.17   \n",
       "MAE                                    3943339.22    4027047.81   \n",
       "Moyenne Residus (%)                         97.44         97.68   \n",
       "Ecart type residus (%)                     236.37        239.13   \n",
       "\n",
       "                        SVM noyau Gaussien  Forêts aléatoires  \\\n",
       "R2                                    0.04               0.68   \n",
       "MAE                             1070883.19          888008.79   \n",
       "Moyenne Residus (%)                  65.39              60.07   \n",
       "Ecart type residus (%)              141.43              94.69   \n",
       "\n",
       "                        Gradient boosting  \n",
       "R2                                   0.71  \n",
       "MAE                             820208.90  \n",
       "Moyenne Residus (%)                 57.12  \n",
       "Ecart type residus (%)              95.27  "
      ]
     },
     "execution_count": 31,
     "metadata": {},
     "output_type": "execute_result"
    }
   ],
   "source": [
    "## erreur avec y uniquement\n",
    "df_resultat_conso_init = pd.DataFrame(erreur_dict_init,index=['R2','MAE','Moyenne Residus (%)','Ecart type residus (%)'])\n",
    "df_resultat_conso_init"
   ]
  },
  {
   "cell_type": "code",
   "execution_count": 32,
   "id": "ead79d55",
   "metadata": {},
   "outputs": [
    {
     "data": {
      "text/html": [
       "<div>\n",
       "<style scoped>\n",
       "    .dataframe tbody tr th:only-of-type {\n",
       "        vertical-align: middle;\n",
       "    }\n",
       "\n",
       "    .dataframe tbody tr th {\n",
       "        vertical-align: top;\n",
       "    }\n",
       "\n",
       "    .dataframe thead th {\n",
       "        text-align: right;\n",
       "    }\n",
       "</style>\n",
       "<table border=\"1\" class=\"dataframe\">\n",
       "  <thead>\n",
       "    <tr style=\"text-align: right;\">\n",
       "      <th></th>\n",
       "      <th>Regression lineaire</th>\n",
       "      <th>Regression lineaire Ridge</th>\n",
       "      <th>Regression lineaire Lasso</th>\n",
       "      <th>SVM lineaire</th>\n",
       "      <th>SVM noyau Gaussien</th>\n",
       "      <th>Forêts aléatoires</th>\n",
       "      <th>Gradient boosting</th>\n",
       "    </tr>\n",
       "  </thead>\n",
       "  <tbody>\n",
       "    <tr>\n",
       "      <th>temps (s)</th>\n",
       "      <td>1.98</td>\n",
       "      <td>0.65</td>\n",
       "      <td>0.91</td>\n",
       "      <td>0.21</td>\n",
       "      <td>2.59</td>\n",
       "      <td>35.71</td>\n",
       "      <td>2.74</td>\n",
       "    </tr>\n",
       "  </tbody>\n",
       "</table>\n",
       "</div>"
      ],
      "text/plain": [
       "           Regression lineaire  Regression lineaire Ridge  \\\n",
       "temps (s)                 1.98                       0.65   \n",
       "\n",
       "           Regression lineaire Lasso  SVM lineaire  SVM noyau Gaussien  \\\n",
       "temps (s)                       0.91          0.21                2.59   \n",
       "\n",
       "           Forêts aléatoires  Gradient boosting  \n",
       "temps (s)              35.71               2.74  "
      ]
     },
     "execution_count": 32,
     "metadata": {},
     "output_type": "execute_result"
    }
   ],
   "source": [
    "## temps de calcul\n",
    "pd.DataFrame(temps_dict,index=['temps (s)'])"
   ]
  },
  {
   "cell_type": "code",
   "execution_count": 33,
   "id": "0ed79d2d",
   "metadata": {},
   "outputs": [
    {
     "data": {
      "image/png": "[encoded data removed]",
      "text/plain": [
       "<Figure size 720x360 with 2 Axes>"
      ]
     },
     "metadata": {},
     "output_type": "display_data"
    }
   ],
   "source": [
    "fig = plt.figure(figsize=(10,5)) \n",
    "plt.style.use('seaborn-whitegrid')\n",
    "plt.rcParams.update({'font.size': 12})\n",
    "plt.subplot(1,3,1)\n",
    "df_resultat_conso.loc['R2',:].plot(kind='barh',color='white',edgecolor='darkblue',linewidth=1.2)\n",
    "plt.xlabel('R2');\n",
    "plt.axis([0,0.8,-0.3,7.5])\n",
    "plt.subplot(1,3,3)\n",
    "df_resultat_conso.loc['MAE',:].sort_values(ascending=False).plot(kind='barh',color='white',edgecolor='darkblue',linewidth=1.2)\n",
    "plt.xlabel('MAE');"
   ]
  },
  {
   "cell_type": "markdown",
   "id": "3040e568",
   "metadata": {},
   "source": [
    "**On déploie la même démarche pour le modèle d´émissions de CO2 avec et sans prise en compte de la variable EnergyStar score**"
   ]
  },
  {
   "cell_type": "markdown",
   "id": "1c269e33",
   "metadata": {},
   "source": [
    "## Modèle Emissions de CO2"
   ]
  },
  {
   "cell_type": "markdown",
   "id": "bbf2701a",
   "metadata": {},
   "source": [
    "**Définition des variables des modèles**"
   ]
  },
  {
   "cell_type": "code",
   "execution_count": 34,
   "id": "fbe61a37",
   "metadata": {},
   "outputs": [],
   "source": [
    "## Entree X\n",
    "X = data.drop(columns=['ENERGYSTARScore','TotalGHGEmissions','SiteEnergyUse(kBtu)_(kWh)'])\n",
    "## Sortie y\n",
    "y_emission = data['TotalGHGEmissions']"
   ]
  },
  {
   "cell_type": "markdown",
   "id": "15e5e202",
   "metadata": {},
   "source": [
    "**Prétraitement des variables**"
   ]
  },
  {
   "cell_type": "code",
   "execution_count": 35,
   "id": "7c5b0b34",
   "metadata": {},
   "outputs": [],
   "source": [
    "## Selection des types de variables\n",
    "numerical_columns_selector = selector(dtype_exclude=object)\n",
    "categorical_columns_selector = selector(dtype_include=object)\n",
    "\n",
    "numerical_columns = numerical_columns_selector(X)\n",
    "categorical_columns = categorical_columns_selector(X)\n",
    "\n",
    "## Traitement specifique par type de variables\n",
    "categorical_preprocessor = OneHotEncoder()\n",
    "numerical_preprocessor = StandardScaler()\n",
    "\n",
    "## Regroupement de tous les traitements en un seul traitement\n",
    "preprocessor = ColumnTransformer([\n",
    "    ('one-hot-encoder', categorical_preprocessor, categorical_columns),\n",
    "    ('standard-scaler', numerical_preprocessor, numerical_columns)])"
   ]
  },
  {
   "cell_type": "markdown",
   "id": "992d4919",
   "metadata": {},
   "source": [
    "**Séparation du jeu de donnée en un jeu d´entrainement et un jeu de test**"
   ]
  },
  {
   "cell_type": "code",
   "execution_count": 36,
   "id": "b1d1475a",
   "metadata": {},
   "outputs": [],
   "source": [
    "## Separation en jeu train et test\n",
    "from sklearn import model_selection\n",
    "\n",
    "X_train, X_test, y_train, y_test = \\\n",
    "model_selection.train_test_split(X, y_emission,\n",
    "                                 test_size=0.3, # 30% des données dans le jeu de test\n",
    "                                stratify=X['PrimaryPropertyType'])"
   ]
  },
  {
   "cell_type": "markdown",
   "id": "50bec789",
   "metadata": {},
   "source": [
    "**Passage au log des sorties**"
   ]
  },
  {
   "cell_type": "code",
   "execution_count": 37,
   "id": "b85e5efc",
   "metadata": {},
   "outputs": [],
   "source": [
    "## Passage au log\n",
    "y_train, y_test = np.log(y_train), np.log(y_test)"
   ]
  },
  {
   "cell_type": "code",
   "execution_count": 38,
   "id": "69dd4046",
   "metadata": {},
   "outputs": [],
   "source": [
    "## Initialisation\n",
    "erreur_dict = {}\n",
    "temps_dict = {}\n",
    "erreur_dict_init = {}"
   ]
  },
  {
   "cell_type": "markdown",
   "id": "ff4856d1",
   "metadata": {},
   "source": [
    "###  Modèles Linéaires"
   ]
  },
  {
   "cell_type": "markdown",
   "id": "13112b5f",
   "metadata": {},
   "source": [
    "**SVM linéaire**"
   ]
  },
  {
   "cell_type": "code",
   "execution_count": 39,
   "id": "54b393f3",
   "metadata": {},
   "outputs": [],
   "source": [
    "from sklearn.svm import LinearSVR\n",
    "modele = 'SVM lineaire'\n",
    "\n",
    "loi_modele = LinearSVR(dual=False,loss='squared_epsilon_insensitive')\n",
    "\n",
    "param_grid = { 'C': np.logspace(-5, 5, 50) }\n",
    "\n",
    "erreur_dict_init[modele],erreur_dict[modele], y_pred, temps_dict[modele], modele_global  = calcule(modele,loi_modele,param_grid)"
   ]
  },
  {
   "cell_type": "markdown",
   "id": "7131973f",
   "metadata": {},
   "source": [
    "###  Modèles Non Linéaires"
   ]
  },
  {
   "cell_type": "markdown",
   "id": "4e923ff5",
   "metadata": {},
   "source": [
    "**SVM noyau Gaussien**"
   ]
  },
  {
   "cell_type": "code",
   "execution_count": 40,
   "id": "7c744bac",
   "metadata": {},
   "outputs": [],
   "source": [
    "from sklearn.svm import SVR\n",
    "\n",
    "modele = 'SVM noyau Gaussien'\n",
    "\n",
    "loi_modele = SVR()\n",
    "\n",
    "param_grid = { 'C': np.logspace(-2, 2, 5), 'gamma': np.logspace(-5, 2, 10) } \n",
    "\n",
    "erreur_dict_init[modele],erreur_dict[modele], y_pred, temps_dict[modele], modele_global = calcule(modele,loi_modele,param_grid)"
   ]
  },
  {
   "cell_type": "markdown",
   "id": "94f29369",
   "metadata": {},
   "source": [
    " **Forêts aléatoires**"
   ]
  },
  {
   "cell_type": "code",
   "execution_count": 41,
   "id": "8ecfa56c",
   "metadata": {},
   "outputs": [],
   "source": [
    "from sklearn.ensemble import RandomForestRegressor\n",
    "\n",
    "modele = 'Forêts aléatoires'\n",
    "\n",
    "loi_modele = RandomForestRegressor()\n",
    "\n",
    "param_grid = { 'n_estimators': list(range(500,1500,200))}\n",
    "\n",
    "erreur_dict_init[modele],erreur_dict[modele], y_pred, temps_dict[modele], modele_global = calcule(modele,loi_modele,param_grid)\n"
   ]
  },
  {
   "cell_type": "markdown",
   "id": "016c4329",
   "metadata": {},
   "source": [
    " **Gradient boosting**"
   ]
  },
  {
   "cell_type": "code",
   "execution_count": 42,
   "id": "dee560e0",
   "metadata": {},
   "outputs": [],
   "source": [
    "from sklearn.ensemble import GradientBoostingRegressor\n",
    "\n",
    "modele = 'Gradient boosting'\n",
    "\n",
    "loi_modele = GradientBoostingRegressor()\n",
    "\n",
    "param_grid = { 'n_estimators': [100,200], 'learning_rate':[0.01,0.1],'max_depth':[1,2,5,8]} \n",
    "\n",
    "erreur_dict_init[modele],erreur_dict[modele], y_pred, temps_dict[modele], modele_global = calcule(modele,loi_modele,param_grid)"
   ]
  },
  {
   "cell_type": "code",
   "execution_count": 43,
   "id": "799fd60d",
   "metadata": {},
   "outputs": [
    {
     "data": {
      "image/png": "[encoded data removed]",
      "text/plain": [
       "<Figure size 432x288 with 1 Axes>"
      ]
     },
     "metadata": {},
     "output_type": "display_data"
    }
   ],
   "source": [
    "## graphique importance des features\n",
    "importances = modele_global.named_steps['Gradient boosting'].best_estimator_.feature_importances_\n",
    "col_cat = modele_global['pretraitrement'].transformers_[0][1].get_feature_names()\n",
    "col_cat = modele_global['pretraitrement'].transformers_[0][1].get_feature_names()\n",
    "col_cat = [a[3:] for a in col_cat]\n",
    "col_num = modele_global['pretraitrement'].transformers_[1][2]\n",
    "col = col_cat+col_num\n",
    "\n",
    "indices = np.argsort(importances)[25:]\n",
    "\n",
    "fig, ax = plt.subplots()\n",
    "ax.barh(range(len(indices)), importances[indices])\n",
    "ax.set_yticks(range(len(indices)))\n",
    "_ = ax.set_yticklabels(np.array(col)[indices])\n",
    "plt.title('Importance des variables');"
   ]
  },
  {
   "cell_type": "code",
   "execution_count": 44,
   "id": "73bc85bf",
   "metadata": {},
   "outputs": [
    {
     "data": {
      "image/png": "[encoded data removed]",
      "text/plain": [
       "<Figure size 432x288 with 1 Axes>"
      ]
     },
     "metadata": {},
     "output_type": "display_data"
    }
   ],
   "source": [
    "## graphique Gradient boosting ecart relatif par type de batiment\n",
    "df = pd.DataFrame([X_test['PrimaryPropertyType'].to_list(),y_test.to_list(),y_pred],index=['PrimaryPropertyType','y_test','y_pred']).T\n",
    "\n",
    "df['y_test'] = np.exp(df['y_test'].astype('float64'))\n",
    "df['y_pred'] = np.exp(df['y_pred'].astype('float64'))\n",
    "df['Ecart'] = np.abs(df['y_test']-df['y_pred'])/df['y_test']\n",
    "\n",
    "df_mae = 100*df.groupby(by='PrimaryPropertyType').mean()['Ecart']\n",
    "\n",
    "var_mae=df_mae.sort_values(ascending=False)[4:]\n",
    "plt.bar(range(len(var_mae)),var_mae,color=\"steelblue\")\n",
    "plt.xticks(range(len((var_mae))),var_mae.index,rotation=90);\n",
    "plt.title('Precision du modèle\\n écarts relatifs par type de bâtiment')\n",
    "plt.ylabel('Ecart relatif (%)')\n",
    "plt.rcParams.update({'font.size': 12})"
   ]
  },
  {
   "cell_type": "markdown",
   "id": "ce5e963b",
   "metadata": {},
   "source": [
    "## Synthèse des résultats"
   ]
  },
  {
   "cell_type": "code",
   "execution_count": 45,
   "id": "03252f21",
   "metadata": {},
   "outputs": [
    {
     "data": {
      "image/png": "[encoded data removed]",
      "text/plain": [
       "<Figure size 864x288 with 2 Axes>"
      ]
     },
     "metadata": {},
     "output_type": "display_data"
    }
   ],
   "source": [
    "graph_R2(y_test,y_pred,erreur_dict[modele],modele)"
   ]
  },
  {
   "cell_type": "code",
   "execution_count": 46,
   "id": "8a539de7",
   "metadata": {},
   "outputs": [
    {
     "data": {
      "text/html": [
       "<div>\n",
       "<style scoped>\n",
       "    .dataframe tbody tr th:only-of-type {\n",
       "        vertical-align: middle;\n",
       "    }\n",
       "\n",
       "    .dataframe tbody tr th {\n",
       "        vertical-align: top;\n",
       "    }\n",
       "\n",
       "    .dataframe thead th {\n",
       "        text-align: right;\n",
       "    }\n",
       "</style>\n",
       "<table border=\"1\" class=\"dataframe\">\n",
       "  <thead>\n",
       "    <tr style=\"text-align: right;\">\n",
       "      <th></th>\n",
       "      <th>SVM lineaire</th>\n",
       "      <th>SVM noyau Gaussien</th>\n",
       "      <th>Forêts aléatoires</th>\n",
       "      <th>Gradient boosting</th>\n",
       "    </tr>\n",
       "  </thead>\n",
       "  <tbody>\n",
       "    <tr>\n",
       "      <th>R2</th>\n",
       "      <td>0.63</td>\n",
       "      <td>0.76</td>\n",
       "      <td>0.77</td>\n",
       "      <td>0.79</td>\n",
       "    </tr>\n",
       "    <tr>\n",
       "      <th>MAE</th>\n",
       "      <td>0.68</td>\n",
       "      <td>0.52</td>\n",
       "      <td>0.53</td>\n",
       "      <td>0.51</td>\n",
       "    </tr>\n",
       "    <tr>\n",
       "      <th>Moyenne Residus (%)</th>\n",
       "      <td>33.34</td>\n",
       "      <td>24.13</td>\n",
       "      <td>26.46</td>\n",
       "      <td>25.01</td>\n",
       "    </tr>\n",
       "    <tr>\n",
       "      <th>Ecart type residus (%)</th>\n",
       "      <td>124.04</td>\n",
       "      <td>83.83</td>\n",
       "      <td>112.76</td>\n",
       "      <td>103.23</td>\n",
       "    </tr>\n",
       "  </tbody>\n",
       "</table>\n",
       "</div>"
      ],
      "text/plain": [
       "                        SVM lineaire  SVM noyau Gaussien  Forêts aléatoires  \\\n",
       "R2                              0.63                0.76               0.77   \n",
       "MAE                             0.68                0.52               0.53   \n",
       "Moyenne Residus (%)            33.34               24.13              26.46   \n",
       "Ecart type residus (%)        124.04               83.83             112.76   \n",
       "\n",
       "                        Gradient boosting  \n",
       "R2                                   0.79  \n",
       "MAE                                  0.51  \n",
       "Moyenne Residus (%)                 25.01  \n",
       "Ecart type residus (%)             103.23  "
      ]
     },
     "execution_count": 46,
     "metadata": {},
     "output_type": "execute_result"
    }
   ],
   "source": [
    "## erreur avec log(y)\n",
    "df_resultat_emissions = pd.DataFrame(erreur_dict,index=['R2','MAE','Moyenne Residus (%)','Ecart type residus (%)'])\n",
    "df_resultat_emissions"
   ]
  },
  {
   "cell_type": "code",
   "execution_count": 47,
   "id": "7cc75942",
   "metadata": {},
   "outputs": [
    {
     "data": {
      "text/html": [
       "<div>\n",
       "<style scoped>\n",
       "    .dataframe tbody tr th:only-of-type {\n",
       "        vertical-align: middle;\n",
       "    }\n",
       "\n",
       "    .dataframe tbody tr th {\n",
       "        vertical-align: top;\n",
       "    }\n",
       "\n",
       "    .dataframe thead th {\n",
       "        text-align: right;\n",
       "    }\n",
       "</style>\n",
       "<table border=\"1\" class=\"dataframe\">\n",
       "  <thead>\n",
       "    <tr style=\"text-align: right;\">\n",
       "      <th></th>\n",
       "      <th>SVM lineaire</th>\n",
       "      <th>SVM noyau Gaussien</th>\n",
       "      <th>Forêts aléatoires</th>\n",
       "      <th>Gradient boosting</th>\n",
       "    </tr>\n",
       "  </thead>\n",
       "  <tbody>\n",
       "    <tr>\n",
       "      <th>R2</th>\n",
       "      <td>-16.19</td>\n",
       "      <td>-4.60</td>\n",
       "      <td>0.48</td>\n",
       "      <td>0.60</td>\n",
       "    </tr>\n",
       "    <tr>\n",
       "      <th>MAE</th>\n",
       "      <td>170.58</td>\n",
       "      <td>108.26</td>\n",
       "      <td>69.05</td>\n",
       "      <td>65.72</td>\n",
       "    </tr>\n",
       "    <tr>\n",
       "      <th>Moyenne Residus (%)</th>\n",
       "      <td>117.23</td>\n",
       "      <td>77.92</td>\n",
       "      <td>64.74</td>\n",
       "      <td>61.95</td>\n",
       "    </tr>\n",
       "    <tr>\n",
       "      <th>Ecart type residus (%)</th>\n",
       "      <td>460.23</td>\n",
       "      <td>274.24</td>\n",
       "      <td>111.55</td>\n",
       "      <td>107.16</td>\n",
       "    </tr>\n",
       "  </tbody>\n",
       "</table>\n",
       "</div>"
      ],
      "text/plain": [
       "                        SVM lineaire  SVM noyau Gaussien  Forêts aléatoires  \\\n",
       "R2                            -16.19               -4.60               0.48   \n",
       "MAE                           170.58              108.26              69.05   \n",
       "Moyenne Residus (%)           117.23               77.92              64.74   \n",
       "Ecart type residus (%)        460.23              274.24             111.55   \n",
       "\n",
       "                        Gradient boosting  \n",
       "R2                                   0.60  \n",
       "MAE                                 65.72  \n",
       "Moyenne Residus (%)                 61.95  \n",
       "Ecart type residus (%)             107.16  "
      ]
     },
     "execution_count": 47,
     "metadata": {},
     "output_type": "execute_result"
    }
   ],
   "source": [
    "## erreur avec y\n",
    "df_resultat_emissions_init = pd.DataFrame(erreur_dict_init,index=['R2','MAE','Moyenne Residus (%)','Ecart type residus (%)'])\n",
    "df_resultat_emissions_init"
   ]
  },
  {
   "cell_type": "code",
   "execution_count": 48,
   "id": "a14b2ab3",
   "metadata": {},
   "outputs": [
    {
     "data": {
      "text/html": [
       "<div>\n",
       "<style scoped>\n",
       "    .dataframe tbody tr th:only-of-type {\n",
       "        vertical-align: middle;\n",
       "    }\n",
       "\n",
       "    .dataframe tbody tr th {\n",
       "        vertical-align: top;\n",
       "    }\n",
       "\n",
       "    .dataframe thead th {\n",
       "        text-align: right;\n",
       "    }\n",
       "</style>\n",
       "<table border=\"1\" class=\"dataframe\">\n",
       "  <thead>\n",
       "    <tr style=\"text-align: right;\">\n",
       "      <th></th>\n",
       "      <th>SVM lineaire</th>\n",
       "      <th>SVM noyau Gaussien</th>\n",
       "      <th>Forêts aléatoires</th>\n",
       "      <th>Gradient boosting</th>\n",
       "    </tr>\n",
       "  </thead>\n",
       "  <tbody>\n",
       "    <tr>\n",
       "      <th>temps (s)</th>\n",
       "      <td>0.2</td>\n",
       "      <td>2.54</td>\n",
       "      <td>36.59</td>\n",
       "      <td>2.87</td>\n",
       "    </tr>\n",
       "  </tbody>\n",
       "</table>\n",
       "</div>"
      ],
      "text/plain": [
       "           SVM lineaire  SVM noyau Gaussien  Forêts aléatoires  \\\n",
       "temps (s)           0.2                2.54              36.59   \n",
       "\n",
       "           Gradient boosting  \n",
       "temps (s)               2.87  "
      ]
     },
     "execution_count": 48,
     "metadata": {},
     "output_type": "execute_result"
    }
   ],
   "source": [
    "## temps de calcul\n",
    "pd.DataFrame(temps_dict,index=['temps (s)'])"
   ]
  },
  {
   "cell_type": "code",
   "execution_count": 49,
   "id": "2e388513",
   "metadata": {},
   "outputs": [
    {
     "data": {
      "image/png": "[encoded data removed]",
      "text/plain": [
       "<Figure size 720x360 with 2 Axes>"
      ]
     },
     "metadata": {},
     "output_type": "display_data"
    }
   ],
   "source": [
    "fig = plt.figure(figsize=(10,5)) \n",
    "plt.style.use('seaborn-whitegrid')\n",
    "plt.rcParams.update({'font.size': 12})\n",
    "plt.subplot(1,3,1)\n",
    "df_resultat_emissions.loc['R2',:].plot(kind='barh',color='white',edgecolor='darkblue',linewidth=1.2)\n",
    "plt.xlabel('R2');\n",
    "plt.axis([0,1,-0.5,3.5])\n",
    "plt.subplot(1,3,3)\n",
    "df_resultat_emissions.loc['MAE',:].sort_values(ascending=False).plot(kind='barh',color='white',edgecolor='darkblue',linewidth=1.2)\n",
    "plt.xlabel('MAE');"
   ]
  },
  {
   "cell_type": "markdown",
   "id": "ea966cfd",
   "metadata": {},
   "source": [
    "## Modèle Emissions de CO2 avec EnergyStar score"
   ]
  },
  {
   "cell_type": "markdown",
   "id": "35d3ee85",
   "metadata": {},
   "source": [
    "**Définition des variables des modèles**"
   ]
  },
  {
   "cell_type": "code",
   "execution_count": 50,
   "id": "240707c3",
   "metadata": {},
   "outputs": [],
   "source": [
    "masque = data['ENERGYSTARScore'].notna()\n",
    "## Entree X\n",
    "X = data[masque].drop(columns=[ 'TotalGHGEmissions','SiteEnergyUse(kBtu)_(kWh)'])\n",
    "## Sortie y\n",
    "y_emission = data[masque]['TotalGHGEmissions']"
   ]
  },
  {
   "cell_type": "markdown",
   "id": "50a96300",
   "metadata": {},
   "source": [
    "**Prétraitement des variables**"
   ]
  },
  {
   "cell_type": "code",
   "execution_count": 51,
   "id": "b73d3d42",
   "metadata": {},
   "outputs": [],
   "source": [
    "## Selection des types de variables\n",
    "numerical_columns_selector = selector(dtype_exclude=object)\n",
    "categorical_columns_selector = selector(dtype_include=object)\n",
    "\n",
    "numerical_columns = numerical_columns_selector(X)\n",
    "categorical_columns = categorical_columns_selector(X)\n",
    "\n",
    "## Traitement specifique par type de variables\n",
    "categorical_preprocessor = OneHotEncoder()\n",
    "numerical_preprocessor = StandardScaler()\n",
    "\n",
    "## Regroupement de tous les traitements en un seul traitement\n",
    "preprocessor = ColumnTransformer([\n",
    "    ('one-hot-encoder', categorical_preprocessor, categorical_columns),\n",
    "    ('standard-scaler', numerical_preprocessor, numerical_columns)])"
   ]
  },
  {
   "cell_type": "markdown",
   "id": "31ef7294",
   "metadata": {},
   "source": [
    "**Séparation du jeu de donnée en un jeu d´entrainement et un jeu de test**"
   ]
  },
  {
   "cell_type": "code",
   "execution_count": 52,
   "id": "d4a4c86b",
   "metadata": {},
   "outputs": [],
   "source": [
    "## Separation en jeu train et test\n",
    "from sklearn import model_selection\n",
    "\n",
    "X_train, X_test, y_train, y_test = \\\n",
    "model_selection.train_test_split(X, y_emission,\n",
    "                                 test_size=0.3, # 30% des données dans le jeu de test\n",
    "                                stratify=X['PrimaryPropertyType'])"
   ]
  },
  {
   "cell_type": "markdown",
   "id": "b6bb3616",
   "metadata": {},
   "source": [
    "**Passage au log des sorties**"
   ]
  },
  {
   "cell_type": "code",
   "execution_count": 53,
   "id": "f36125a0",
   "metadata": {},
   "outputs": [],
   "source": [
    "## Passage au log\n",
    "y_train, y_test = np.log(y_train), np.log(y_test)"
   ]
  },
  {
   "cell_type": "code",
   "execution_count": 54,
   "id": "50e88395",
   "metadata": {},
   "outputs": [],
   "source": [
    "## Initialisation\n",
    "erreur_dict = {}\n",
    "temps_dict = {}"
   ]
  },
  {
   "cell_type": "markdown",
   "id": "b57ddf00",
   "metadata": {},
   "source": [
    "###  Modèle Linéaire"
   ]
  },
  {
   "cell_type": "markdown",
   "id": "34ae4896",
   "metadata": {},
   "source": [
    "**SVM lineaire**"
   ]
  },
  {
   "cell_type": "code",
   "execution_count": 55,
   "id": "e690e587",
   "metadata": {},
   "outputs": [],
   "source": [
    "from sklearn.svm import LinearSVR\n",
    "modele = 'SVM lineaire'\n",
    "\n",
    "loi_modele = LinearSVR(dual=False,loss='squared_epsilon_insensitive')\n",
    "\n",
    "param_grid = { 'C': np.logspace(-5, 5, 50) }\n",
    "\n",
    "erreur_dict_init[modele],erreur_dict[modele], y_pred, temps_dict[modele], modele_global = calcule(modele,loi_modele,param_grid)"
   ]
  },
  {
   "cell_type": "markdown",
   "id": "1e76d17b",
   "metadata": {},
   "source": [
    "###  Modèles Non Linéaires"
   ]
  },
  {
   "cell_type": "markdown",
   "id": "72014ab5",
   "metadata": {},
   "source": [
    "**SVM noyau Gaussien**"
   ]
  },
  {
   "cell_type": "code",
   "execution_count": 56,
   "id": "cfcdd44c",
   "metadata": {},
   "outputs": [],
   "source": [
    "from sklearn.svm import SVR\n",
    "\n",
    "modele = 'SVM noyau Gaussien'\n",
    "\n",
    "loi_modele = SVR()\n",
    "\n",
    "param_grid = { 'C': np.logspace(-2, 2, 5), 'gamma': np.logspace(-5, 2, 10) } \n",
    "\n",
    "erreur_dict_init[modele],erreur_dict[modele], y_pred, temps_dict[modele], modele_global = calcule(modele,loi_modele,param_grid)"
   ]
  },
  {
   "cell_type": "markdown",
   "id": "51011cf1",
   "metadata": {},
   "source": [
    "**Forêts aléatoires**"
   ]
  },
  {
   "cell_type": "code",
   "execution_count": 57,
   "id": "057d498d",
   "metadata": {},
   "outputs": [],
   "source": [
    "from sklearn.ensemble import RandomForestRegressor\n",
    "\n",
    "modele = 'Forêts aléatoires'\n",
    "\n",
    "loi_modele = RandomForestRegressor()\n",
    "\n",
    "param_grid = { 'n_estimators': list(range(500,1500,200))}\n",
    "\n",
    "erreur_dict_init[modele],erreur_dict[modele], y_pred, temps_dict[modele], modele_global = calcule(modele,loi_modele,param_grid)"
   ]
  },
  {
   "cell_type": "markdown",
   "id": "b658c009",
   "metadata": {},
   "source": [
    "**Gradient boosting**"
   ]
  },
  {
   "cell_type": "code",
   "execution_count": 58,
   "id": "a18640fd",
   "metadata": {},
   "outputs": [],
   "source": [
    "from sklearn.ensemble import GradientBoostingRegressor\n",
    "\n",
    "modele = 'Gradient boosting'\n",
    "\n",
    "loi_modele = GradientBoostingRegressor()\n",
    "\n",
    "param_grid = { 'n_estimators': [100,200], 'learning_rate':[0.01,0.1],'max_depth':[1,2,5,8]} \n",
    "\n",
    "erreur_dict_init[modele],erreur_dict[modele], y_pred, temps_dict[modele], modele_global = calcule(modele,loi_modele,param_grid)"
   ]
  },
  {
   "cell_type": "code",
   "execution_count": 59,
   "id": "b9acc86d",
   "metadata": {},
   "outputs": [
    {
     "data": {
      "image/png": "[encoded data removed]",
      "text/plain": [
       "<Figure size 432x288 with 1 Axes>"
      ]
     },
     "metadata": {},
     "output_type": "display_data"
    }
   ],
   "source": [
    "## graphique importance des features\n",
    "importances = modele_global.named_steps['Gradient boosting'].best_estimator_.feature_importances_\n",
    "col_cat = modele_global['pretraitrement'].transformers_[0][1].get_feature_names()\n",
    "col_cat = modele_global['pretraitrement'].transformers_[0][1].get_feature_names()\n",
    "col_cat = [a[3:] for a in col_cat]\n",
    "col_num = modele_global['pretraitrement'].transformers_[1][2]\n",
    "col = col_cat+col_num\n",
    "\n",
    "indices = np.argsort(importances)[25:]\n",
    "\n",
    "fig, ax = plt.subplots()\n",
    "ax.barh(range(len(indices)), importances[indices])\n",
    "ax.set_yticks(range(len(indices)))\n",
    "_ = ax.set_yticklabels(np.array(col)[indices])\n",
    "plt.title('Importance des variables');"
   ]
  },
  {
   "cell_type": "code",
   "execution_count": 60,
   "id": "d8b8bf6c",
   "metadata": {},
   "outputs": [
    {
     "data": {
      "image/png": "[encoded data removed]",
      "text/plain": [
       "<Figure size 432x288 with 1 Axes>"
      ]
     },
     "metadata": {},
     "output_type": "display_data"
    }
   ],
   "source": [
    "## graphique Gradient boosting vs ecart relatif par type de batiment\n",
    "df = pd.DataFrame([X_test['PrimaryPropertyType'].to_list(),y_test.to_list(),y_pred],index=['PrimaryPropertyType','y_test','y_pred']).T\n",
    "\n",
    "df['y_test'] = np.exp(df['y_test'].astype('float64'))\n",
    "df['y_pred'] = np.exp(df['y_pred'].astype('float64'))\n",
    "df['Ecart'] = np.abs(df['y_test']-df['y_pred'])/df['y_test']\n",
    "\n",
    "df_mae = 100*df.groupby(by='PrimaryPropertyType').mean()['Ecart']\n",
    "\n",
    "var_mae=df_mae.sort_values(ascending=False)\n",
    "plt.bar(range(len(var_mae)),var_mae,color=\"steelblue\")\n",
    "plt.xticks(range(len((var_mae))),var_mae.index,rotation=90);\n",
    "plt.title('Precision du modèle\\n écarts relatifs par type de bâtiment')\n",
    "plt.ylabel('Ecart relatif (%)')\n",
    "plt.rcParams.update({'font.size': 12})"
   ]
  },
  {
   "cell_type": "markdown",
   "id": "44220238",
   "metadata": {},
   "source": [
    "## Synthèse des résultats"
   ]
  },
  {
   "cell_type": "code",
   "execution_count": 61,
   "id": "1acaad12",
   "metadata": {},
   "outputs": [
    {
     "data": {
      "image/png": "[encoded data removed]",
      "text/plain": [
       "<Figure size 864x288 with 2 Axes>"
      ]
     },
     "metadata": {},
     "output_type": "display_data"
    }
   ],
   "source": [
    "graph_R2(y_test,y_pred,erreur_dict[modele],modele)"
   ]
  },
  {
   "cell_type": "code",
   "execution_count": 62,
   "id": "cfb36979",
   "metadata": {},
   "outputs": [
    {
     "data": {
      "text/html": [
       "<div>\n",
       "<style scoped>\n",
       "    .dataframe tbody tr th:only-of-type {\n",
       "        vertical-align: middle;\n",
       "    }\n",
       "\n",
       "    .dataframe tbody tr th {\n",
       "        vertical-align: top;\n",
       "    }\n",
       "\n",
       "    .dataframe thead th {\n",
       "        text-align: right;\n",
       "    }\n",
       "</style>\n",
       "<table border=\"1\" class=\"dataframe\">\n",
       "  <thead>\n",
       "    <tr style=\"text-align: right;\">\n",
       "      <th></th>\n",
       "      <th>SVM lineaire</th>\n",
       "      <th>SVM noyau Gaussien</th>\n",
       "      <th>Forêts aléatoires</th>\n",
       "      <th>Gradient boosting</th>\n",
       "    </tr>\n",
       "  </thead>\n",
       "  <tbody>\n",
       "    <tr>\n",
       "      <th>R2</th>\n",
       "      <td>0.78</td>\n",
       "      <td>0.89</td>\n",
       "      <td>0.88</td>\n",
       "      <td>0.92</td>\n",
       "    </tr>\n",
       "    <tr>\n",
       "      <th>MAE</th>\n",
       "      <td>0.53</td>\n",
       "      <td>0.35</td>\n",
       "      <td>0.37</td>\n",
       "      <td>0.32</td>\n",
       "    </tr>\n",
       "    <tr>\n",
       "      <th>Moyenne Residus (%)</th>\n",
       "      <td>28.55</td>\n",
       "      <td>19.46</td>\n",
       "      <td>19.72</td>\n",
       "      <td>16.34</td>\n",
       "    </tr>\n",
       "    <tr>\n",
       "      <th>Ecart type residus (%)</th>\n",
       "      <td>122.79</td>\n",
       "      <td>85.71</td>\n",
       "      <td>87.96</td>\n",
       "      <td>74.77</td>\n",
       "    </tr>\n",
       "  </tbody>\n",
       "</table>\n",
       "</div>"
      ],
      "text/plain": [
       "                        SVM lineaire  SVM noyau Gaussien  Forêts aléatoires  \\\n",
       "R2                              0.78                0.89               0.88   \n",
       "MAE                             0.53                0.35               0.37   \n",
       "Moyenne Residus (%)            28.55               19.46              19.72   \n",
       "Ecart type residus (%)        122.79               85.71              87.96   \n",
       "\n",
       "                        Gradient boosting  \n",
       "R2                                   0.92  \n",
       "MAE                                  0.32  \n",
       "Moyenne Residus (%)                 16.34  \n",
       "Ecart type residus (%)              74.77  "
      ]
     },
     "execution_count": 62,
     "metadata": {},
     "output_type": "execute_result"
    }
   ],
   "source": [
    "## erreur avec log(y)\n",
    "df_resultat_emissions_energystarscore = pd.DataFrame(erreur_dict,index=['R2','MAE','Moyenne Residus (%)','Ecart type residus (%)'])\n",
    "df_resultat_emissions_energystarscore"
   ]
  },
  {
   "cell_type": "code",
   "execution_count": 63,
   "id": "5f8fd6c0",
   "metadata": {},
   "outputs": [
    {
     "data": {
      "text/html": [
       "<div>\n",
       "<style scoped>\n",
       "    .dataframe tbody tr th:only-of-type {\n",
       "        vertical-align: middle;\n",
       "    }\n",
       "\n",
       "    .dataframe tbody tr th {\n",
       "        vertical-align: top;\n",
       "    }\n",
       "\n",
       "    .dataframe thead th {\n",
       "        text-align: right;\n",
       "    }\n",
       "</style>\n",
       "<table border=\"1\" class=\"dataframe\">\n",
       "  <thead>\n",
       "    <tr style=\"text-align: right;\">\n",
       "      <th></th>\n",
       "      <th>SVM lineaire</th>\n",
       "      <th>SVM noyau Gaussien</th>\n",
       "      <th>Forêts aléatoires</th>\n",
       "      <th>Gradient boosting</th>\n",
       "    </tr>\n",
       "  </thead>\n",
       "  <tbody>\n",
       "    <tr>\n",
       "      <th>R2</th>\n",
       "      <td>-0.14</td>\n",
       "      <td>0.53</td>\n",
       "      <td>0.62</td>\n",
       "      <td>0.73</td>\n",
       "    </tr>\n",
       "    <tr>\n",
       "      <th>MAE</th>\n",
       "      <td>85.21</td>\n",
       "      <td>53.83</td>\n",
       "      <td>53.10</td>\n",
       "      <td>48.78</td>\n",
       "    </tr>\n",
       "    <tr>\n",
       "      <th>Moyenne Residus (%)</th>\n",
       "      <td>67.54</td>\n",
       "      <td>42.33</td>\n",
       "      <td>41.64</td>\n",
       "      <td>34.82</td>\n",
       "    </tr>\n",
       "    <tr>\n",
       "      <th>Ecart type residus (%)</th>\n",
       "      <td>122.86</td>\n",
       "      <td>72.55</td>\n",
       "      <td>65.14</td>\n",
       "      <td>51.07</td>\n",
       "    </tr>\n",
       "  </tbody>\n",
       "</table>\n",
       "</div>"
      ],
      "text/plain": [
       "                        SVM lineaire  SVM noyau Gaussien  Forêts aléatoires  \\\n",
       "R2                             -0.14                0.53               0.62   \n",
       "MAE                            85.21               53.83              53.10   \n",
       "Moyenne Residus (%)            67.54               42.33              41.64   \n",
       "Ecart type residus (%)        122.86               72.55              65.14   \n",
       "\n",
       "                        Gradient boosting  \n",
       "R2                                   0.73  \n",
       "MAE                                 48.78  \n",
       "Moyenne Residus (%)                 34.82  \n",
       "Ecart type residus (%)              51.07  "
      ]
     },
     "execution_count": 63,
     "metadata": {},
     "output_type": "execute_result"
    }
   ],
   "source": [
    "## erreur avec y\n",
    "df_resultat_emissions_energystarscore_init = pd.DataFrame(erreur_dict_init,index=['R2','MAE','Moyenne Residus (%)','Ecart type residus (%)'])\n",
    "df_resultat_emissions_energystarscore_init"
   ]
  },
  {
   "cell_type": "code",
   "execution_count": 64,
   "id": "3c3cd512",
   "metadata": {},
   "outputs": [
    {
     "data": {
      "text/html": [
       "<div>\n",
       "<style scoped>\n",
       "    .dataframe tbody tr th:only-of-type {\n",
       "        vertical-align: middle;\n",
       "    }\n",
       "\n",
       "    .dataframe tbody tr th {\n",
       "        vertical-align: top;\n",
       "    }\n",
       "\n",
       "    .dataframe thead th {\n",
       "        text-align: right;\n",
       "    }\n",
       "</style>\n",
       "<table border=\"1\" class=\"dataframe\">\n",
       "  <thead>\n",
       "    <tr style=\"text-align: right;\">\n",
       "      <th></th>\n",
       "      <th>SVM lineaire</th>\n",
       "      <th>SVM noyau Gaussien</th>\n",
       "      <th>Forêts aléatoires</th>\n",
       "      <th>Gradient boosting</th>\n",
       "    </tr>\n",
       "  </thead>\n",
       "  <tbody>\n",
       "    <tr>\n",
       "      <th>temps (s)</th>\n",
       "      <td>0.18</td>\n",
       "      <td>1.21</td>\n",
       "      <td>24.23</td>\n",
       "      <td>2.35</td>\n",
       "    </tr>\n",
       "  </tbody>\n",
       "</table>\n",
       "</div>"
      ],
      "text/plain": [
       "           SVM lineaire  SVM noyau Gaussien  Forêts aléatoires  \\\n",
       "temps (s)          0.18                1.21              24.23   \n",
       "\n",
       "           Gradient boosting  \n",
       "temps (s)               2.35  "
      ]
     },
     "execution_count": 64,
     "metadata": {},
     "output_type": "execute_result"
    }
   ],
   "source": [
    "## temps de calcul\n",
    "pd.DataFrame(temps_dict,index=['temps (s)'])"
   ]
  },
  {
   "cell_type": "code",
   "execution_count": 65,
   "id": "6f098780",
   "metadata": {},
   "outputs": [
    {
     "data": {
      "image/png": "[encoded data removed]",
      "text/plain": [
       "<Figure size 720x360 with 2 Axes>"
      ]
     },
     "metadata": {},
     "output_type": "display_data"
    }
   ],
   "source": [
    "fig = plt.figure(figsize=(10,5)) \n",
    "plt.style.use('seaborn-whitegrid')\n",
    "plt.rcParams.update({'font.size': 12})\n",
    "plt.subplot(1,3,1)\n",
    "df_resultat_emissions_energystarscore.loc['R2',:].plot(kind='barh',color='white',edgecolor='darkblue',linewidth=1.2)\n",
    "plt.xlabel('R2');\n",
    "plt.axis([0,1,-0.5,3.5])\n",
    "plt.subplot(1,3,3)\n",
    "df_resultat_emissions_energystarscore.loc['MAE',:].sort_values(ascending=False).plot(kind='barh',color='white',edgecolor='darkblue',linewidth=1.2)\n",
    "plt.xlabel('MAE');"
   ]
  },
  {
   "cell_type": "markdown",
   "id": "d59341cd",
   "metadata": {},
   "source": [
    "# Conclusion"
   ]
  },
  {
   "cell_type": "code",
   "execution_count": 66,
   "id": "b3e3d558",
   "metadata": {},
   "outputs": [
    {
     "name": "stdout",
     "output_type": "stream",
     "text": [
      "Consommations\n"
     ]
    },
    {
     "data": {
      "text/html": [
       "<div>\n",
       "<style scoped>\n",
       "    .dataframe tbody tr th:only-of-type {\n",
       "        vertical-align: middle;\n",
       "    }\n",
       "\n",
       "    .dataframe tbody tr th {\n",
       "        vertical-align: top;\n",
       "    }\n",
       "\n",
       "    .dataframe thead th {\n",
       "        text-align: right;\n",
       "    }\n",
       "</style>\n",
       "<table border=\"1\" class=\"dataframe\">\n",
       "  <thead>\n",
       "    <tr style=\"text-align: right;\">\n",
       "      <th></th>\n",
       "      <th>Regression naive</th>\n",
       "      <th>Regression lineaire</th>\n",
       "      <th>Regression lineaire Ridge</th>\n",
       "      <th>Regression lineaire Lasso</th>\n",
       "      <th>SVM lineaire</th>\n",
       "      <th>SVM noyau Gaussien</th>\n",
       "      <th>Forêts aléatoires</th>\n",
       "      <th>Gradient boosting</th>\n",
       "    </tr>\n",
       "  </thead>\n",
       "  <tbody>\n",
       "    <tr>\n",
       "      <th>R2</th>\n",
       "      <td>-0.01</td>\n",
       "      <td>0.56</td>\n",
       "      <td>0.56</td>\n",
       "      <td>0.56</td>\n",
       "      <td>0.56</td>\n",
       "      <td>0.71</td>\n",
       "      <td>0.72</td>\n",
       "      <td>0.75</td>\n",
       "    </tr>\n",
       "    <tr>\n",
       "      <th>MAE</th>\n",
       "      <td>1.04</td>\n",
       "      <td>0.66</td>\n",
       "      <td>0.66</td>\n",
       "      <td>0.66</td>\n",
       "      <td>0.66</td>\n",
       "      <td>0.52</td>\n",
       "      <td>0.51</td>\n",
       "      <td>0.48</td>\n",
       "    </tr>\n",
       "    <tr>\n",
       "      <th>Moyenne Residus (%)</th>\n",
       "      <td>7.60</td>\n",
       "      <td>4.87</td>\n",
       "      <td>4.88</td>\n",
       "      <td>4.88</td>\n",
       "      <td>4.88</td>\n",
       "      <td>3.86</td>\n",
       "      <td>3.77</td>\n",
       "      <td>3.57</td>\n",
       "    </tr>\n",
       "    <tr>\n",
       "      <th>Ecart type residus (%)</th>\n",
       "      <td>6.07</td>\n",
       "      <td>4.32</td>\n",
       "      <td>4.32</td>\n",
       "      <td>4.32</td>\n",
       "      <td>4.32</td>\n",
       "      <td>3.77</td>\n",
       "      <td>3.56</td>\n",
       "      <td>3.48</td>\n",
       "    </tr>\n",
       "  </tbody>\n",
       "</table>\n",
       "</div>"
      ],
      "text/plain": [
       "                        Regression naive  Regression lineaire  \\\n",
       "R2                                 -0.01                 0.56   \n",
       "MAE                                 1.04                 0.66   \n",
       "Moyenne Residus (%)                 7.60                 4.87   \n",
       "Ecart type residus (%)              6.07                 4.32   \n",
       "\n",
       "                        Regression lineaire Ridge  Regression lineaire Lasso  \\\n",
       "R2                                           0.56                       0.56   \n",
       "MAE                                          0.66                       0.66   \n",
       "Moyenne Residus (%)                          4.88                       4.88   \n",
       "Ecart type residus (%)                       4.32                       4.32   \n",
       "\n",
       "                        SVM lineaire  SVM noyau Gaussien  Forêts aléatoires  \\\n",
       "R2                              0.56                0.71               0.72   \n",
       "MAE                             0.66                0.52               0.51   \n",
       "Moyenne Residus (%)             4.88                3.86               3.77   \n",
       "Ecart type residus (%)          4.32                3.77               3.56   \n",
       "\n",
       "                        Gradient boosting  \n",
       "R2                                   0.75  \n",
       "MAE                                  0.48  \n",
       "Moyenne Residus (%)                  3.57  \n",
       "Ecart type residus (%)               3.48  "
      ]
     },
     "execution_count": 66,
     "metadata": {},
     "output_type": "execute_result"
    }
   ],
   "source": [
    "print(\"Consommations\")\n",
    "df_resultat_conso"
   ]
  },
  {
   "cell_type": "code",
   "execution_count": 67,
   "id": "bca06a12",
   "metadata": {},
   "outputs": [
    {
     "name": "stdout",
     "output_type": "stream",
     "text": [
      "\n",
      "Emissions\n"
     ]
    },
    {
     "data": {
      "text/html": [
       "<div>\n",
       "<style scoped>\n",
       "    .dataframe tbody tr th:only-of-type {\n",
       "        vertical-align: middle;\n",
       "    }\n",
       "\n",
       "    .dataframe tbody tr th {\n",
       "        vertical-align: top;\n",
       "    }\n",
       "\n",
       "    .dataframe thead th {\n",
       "        text-align: right;\n",
       "    }\n",
       "</style>\n",
       "<table border=\"1\" class=\"dataframe\">\n",
       "  <thead>\n",
       "    <tr style=\"text-align: right;\">\n",
       "      <th></th>\n",
       "      <th>SVM lineaire</th>\n",
       "      <th>SVM noyau Gaussien</th>\n",
       "      <th>Forêts aléatoires</th>\n",
       "      <th>Gradient boosting</th>\n",
       "    </tr>\n",
       "  </thead>\n",
       "  <tbody>\n",
       "    <tr>\n",
       "      <th>R2</th>\n",
       "      <td>0.63</td>\n",
       "      <td>0.76</td>\n",
       "      <td>0.77</td>\n",
       "      <td>0.79</td>\n",
       "    </tr>\n",
       "    <tr>\n",
       "      <th>MAE</th>\n",
       "      <td>0.68</td>\n",
       "      <td>0.52</td>\n",
       "      <td>0.53</td>\n",
       "      <td>0.51</td>\n",
       "    </tr>\n",
       "    <tr>\n",
       "      <th>Moyenne Residus (%)</th>\n",
       "      <td>33.34</td>\n",
       "      <td>24.13</td>\n",
       "      <td>26.46</td>\n",
       "      <td>25.01</td>\n",
       "    </tr>\n",
       "    <tr>\n",
       "      <th>Ecart type residus (%)</th>\n",
       "      <td>124.04</td>\n",
       "      <td>83.83</td>\n",
       "      <td>112.76</td>\n",
       "      <td>103.23</td>\n",
       "    </tr>\n",
       "  </tbody>\n",
       "</table>\n",
       "</div>"
      ],
      "text/plain": [
       "                        SVM lineaire  SVM noyau Gaussien  Forêts aléatoires  \\\n",
       "R2                              0.63                0.76               0.77   \n",
       "MAE                             0.68                0.52               0.53   \n",
       "Moyenne Residus (%)            33.34               24.13              26.46   \n",
       "Ecart type residus (%)        124.04               83.83             112.76   \n",
       "\n",
       "                        Gradient boosting  \n",
       "R2                                   0.79  \n",
       "MAE                                  0.51  \n",
       "Moyenne Residus (%)                 25.01  \n",
       "Ecart type residus (%)             103.23  "
      ]
     },
     "execution_count": 67,
     "metadata": {},
     "output_type": "execute_result"
    }
   ],
   "source": [
    "print(\"\\nEmissions\")\n",
    "df_resultat_emissions"
   ]
  },
  {
   "cell_type": "code",
   "execution_count": 68,
   "id": "2714dfdc",
   "metadata": {},
   "outputs": [
    {
     "name": "stdout",
     "output_type": "stream",
     "text": [
      "\n",
      "Emissions et EnergyStarScore\n"
     ]
    },
    {
     "data": {
      "text/html": [
       "<div>\n",
       "<style scoped>\n",
       "    .dataframe tbody tr th:only-of-type {\n",
       "        vertical-align: middle;\n",
       "    }\n",
       "\n",
       "    .dataframe tbody tr th {\n",
       "        vertical-align: top;\n",
       "    }\n",
       "\n",
       "    .dataframe thead th {\n",
       "        text-align: right;\n",
       "    }\n",
       "</style>\n",
       "<table border=\"1\" class=\"dataframe\">\n",
       "  <thead>\n",
       "    <tr style=\"text-align: right;\">\n",
       "      <th></th>\n",
       "      <th>SVM lineaire</th>\n",
       "      <th>SVM noyau Gaussien</th>\n",
       "      <th>Forêts aléatoires</th>\n",
       "      <th>Gradient boosting</th>\n",
       "    </tr>\n",
       "  </thead>\n",
       "  <tbody>\n",
       "    <tr>\n",
       "      <th>R2</th>\n",
       "      <td>0.78</td>\n",
       "      <td>0.89</td>\n",
       "      <td>0.88</td>\n",
       "      <td>0.92</td>\n",
       "    </tr>\n",
       "    <tr>\n",
       "      <th>MAE</th>\n",
       "      <td>0.53</td>\n",
       "      <td>0.35</td>\n",
       "      <td>0.37</td>\n",
       "      <td>0.32</td>\n",
       "    </tr>\n",
       "    <tr>\n",
       "      <th>Moyenne Residus (%)</th>\n",
       "      <td>28.55</td>\n",
       "      <td>19.46</td>\n",
       "      <td>19.72</td>\n",
       "      <td>16.34</td>\n",
       "    </tr>\n",
       "    <tr>\n",
       "      <th>Ecart type residus (%)</th>\n",
       "      <td>122.79</td>\n",
       "      <td>85.71</td>\n",
       "      <td>87.96</td>\n",
       "      <td>74.77</td>\n",
       "    </tr>\n",
       "  </tbody>\n",
       "</table>\n",
       "</div>"
      ],
      "text/plain": [
       "                        SVM lineaire  SVM noyau Gaussien  Forêts aléatoires  \\\n",
       "R2                              0.78                0.89               0.88   \n",
       "MAE                             0.53                0.35               0.37   \n",
       "Moyenne Residus (%)            28.55               19.46              19.72   \n",
       "Ecart type residus (%)        122.79               85.71              87.96   \n",
       "\n",
       "                        Gradient boosting  \n",
       "R2                                   0.92  \n",
       "MAE                                  0.32  \n",
       "Moyenne Residus (%)                 16.34  \n",
       "Ecart type residus (%)              74.77  "
      ]
     },
     "execution_count": 68,
     "metadata": {},
     "output_type": "execute_result"
    }
   ],
   "source": [
    "print(\"\\nEmissions et EnergyStarScore\")\n",
    "df_resultat_emissions_energystarscore"
   ]
  },
  {
   "cell_type": "markdown",
   "id": "95c1cf7c",
   "metadata": {},
   "source": [
    "Le modèle 'Gradient Boosting' est celui retenu dans chacun des cas. Son coefficient de determination indique la meilleure qualité de modele. \n",
    "L´absence de l´EnergyStar score dans les modèles diminue le coefficient de determination (~0.1 point). "
   ]
  },
  {
   "cell_type": "code",
   "execution_count": null,
   "id": "39d3c8f7",
   "metadata": {},
   "outputs": [],
   "source": []
  }
 ],
 "metadata": {
  "kernelspec": {
   "display_name": "Python 3 (ipykernel)",
   "language": "python",
   "name": "python3"
  },
  "language_info": {
   "codemirror_mode": {
    "name": "ipython",
    "version": 3
   },
   "file_extension": ".py",
   "mimetype": "text/x-python",
   "name": "python",
   "nbconvert_exporter": "python",
   "pygments_lexer": "ipython3",
   "version": "3.9.7"
  }
 },
 "nbformat": 4,
 "nbformat_minor": 5
}
